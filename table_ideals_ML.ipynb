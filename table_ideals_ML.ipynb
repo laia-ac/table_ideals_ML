{
  "nbformat": 4,
  "nbformat_minor": 0,
  "metadata": {
    "kernelspec": {
      "display_name": "Python 3 (ipykernel)",
      "language": "python",
      "name": "python3"
    },
    "language_info": {
      "codemirror_mode": {
        "name": "ipython",
        "version": 3
      },
      "file_extension": ".py",
      "mimetype": "text/x-python",
      "name": "python",
      "nbconvert_exporter": "python",
      "pygments_lexer": "ipython3",
      "version": "3.9.6"
    },
    "colab": {
      "name": "table_ideals_ML.ipynb",
      "provenance": [],
      "collapsed_sections": [
        "64MKS4umEUJE"
      ]
    }
  },
  "cells": [
    {
      "cell_type": "markdown",
      "metadata": {
        "id": "X8fPpzcYEUIy"
      },
      "source": [
        "# Table ideals with supervised learning"
      ]
    },
    {
      "cell_type": "markdown",
      "metadata": {
        "id": "qx2avWIgEUI1"
      },
      "source": [
        "This is the accompanying code of the paper\n",
        "\"Laia Amorós, Oleksandra Gasanova and Laura Jakobsson, *A machine learning approach to commutative algebra: Distinguishing table vs non-table ideals*, (submitted) arXive, 2021\".\n",
        "\n",
        "In this notebook we solve the problem of classifying table vs non-table monomial ideals.\n",
        "We implement 3 different machine learning algorithms: feedforward neural network, decision tree and graph neural network.\n",
        "The following code works for any number of variables. We have used 10 variables in this notebook."
      ]
    },
    {
      "cell_type": "code",
      "metadata": {
        "id": "GXSTiy3eEUI2"
      },
      "source": [
        "import csv\n",
        "import pandas as pd\n",
        "import math\n",
        "import numpy as np\n",
        "import tensorflow as tf\n",
        "import matplotlib.pyplot as plt\n",
        "\n",
        "from tensorflow import keras\n",
        "from tensorflow.keras import layers\n",
        "from tensorflow.keras.layers.experimental import preprocessing\n",
        "from sklearn.model_selection import train_test_split\n",
        "\n",
        "# Make numpy values easier to read.\n",
        "np.set_printoptions(precision=3, suppress=True)"
      ],
      "execution_count": null,
      "outputs": []
    },
    {
      "cell_type": "markdown",
      "metadata": {
        "id": "ykP-q-wGEUI4"
      },
      "source": [
        "## 1. Data preparation"
      ]
    },
    {
      "cell_type": "markdown",
      "metadata": {
        "id": "MOcf8qt2EUI4"
      },
      "source": [
        "We load the table and non-table ideals stored in two csv files. Non-table ideals are generated in *generating_nontable_ideals_SAGE.ipynb* In the non-table ideals, there are no *almost table* ideals included. "
      ]
    },
    {
      "cell_type": "code",
      "metadata": {
        "id": "GvShp8oPEUI6"
      },
      "source": [
        "file1 = \"table_exponents_10var.csv\" #symmetric\n",
        "file2 = \"non_table_exponents_10vars_deg7.csv\" #nonsymmetric"
      ],
      "execution_count": null,
      "outputs": []
    },
    {
      "cell_type": "code",
      "metadata": {
        "id": "GQ_-FwX6EUI7"
      },
      "source": [
        "files = [file1,file2]\n",
        "\n",
        "#combine all files in a list\n",
        "data = pd.concat([pd.read_csv(f,header=None) for f in files])\n",
        "data.to_csv( \"all_ideals.csv\", index=False)"
      ],
      "execution_count": null,
      "outputs": []
    },
    {
      "cell_type": "code",
      "metadata": {
        "id": "psaz_JDjEUI8",
        "outputId": "5022dee7-77c4-42f7-9a35-42c726802e84"
      },
      "source": [
        "data.head()"
      ],
      "execution_count": null,
      "outputs": [
        {
          "data": {
            "text/html": [
              "<div>\n",
              "<style scoped>\n",
              "    .dataframe tbody tr th:only-of-type {\n",
              "        vertical-align: middle;\n",
              "    }\n",
              "\n",
              "    .dataframe tbody tr th {\n",
              "        vertical-align: top;\n",
              "    }\n",
              "\n",
              "    .dataframe thead th {\n",
              "        text-align: right;\n",
              "    }\n",
              "</style>\n",
              "<table border=\"1\" class=\"dataframe\">\n",
              "  <thead>\n",
              "    <tr style=\"text-align: right;\">\n",
              "      <th></th>\n",
              "      <th>0</th>\n",
              "      <th>1</th>\n",
              "      <th>2</th>\n",
              "      <th>3</th>\n",
              "      <th>4</th>\n",
              "      <th>5</th>\n",
              "      <th>6</th>\n",
              "      <th>7</th>\n",
              "      <th>8</th>\n",
              "      <th>9</th>\n",
              "      <th>...</th>\n",
              "      <th>1021</th>\n",
              "      <th>1022</th>\n",
              "      <th>1023</th>\n",
              "      <th>1024</th>\n",
              "      <th>1025</th>\n",
              "      <th>1026</th>\n",
              "      <th>1027</th>\n",
              "      <th>1028</th>\n",
              "      <th>1029</th>\n",
              "      <th>1030</th>\n",
              "    </tr>\n",
              "  </thead>\n",
              "  <tbody>\n",
              "    <tr>\n",
              "      <th>0</th>\n",
              "      <td>0</td>\n",
              "      <td>0</td>\n",
              "      <td>0</td>\n",
              "      <td>0</td>\n",
              "      <td>0</td>\n",
              "      <td>0</td>\n",
              "      <td>0</td>\n",
              "      <td>0</td>\n",
              "      <td>0</td>\n",
              "      <td>0</td>\n",
              "      <td>...</td>\n",
              "      <td>4195</td>\n",
              "      <td>4039</td>\n",
              "      <td>2588</td>\n",
              "      <td>971</td>\n",
              "      <td>1391</td>\n",
              "      <td>1120</td>\n",
              "      <td>0</td>\n",
              "      <td>0</td>\n",
              "      <td>4351</td>\n",
              "      <td>1</td>\n",
              "    </tr>\n",
              "    <tr>\n",
              "      <th>1</th>\n",
              "      <td>0</td>\n",
              "      <td>0</td>\n",
              "      <td>0</td>\n",
              "      <td>0</td>\n",
              "      <td>0</td>\n",
              "      <td>0</td>\n",
              "      <td>0</td>\n",
              "      <td>0</td>\n",
              "      <td>0</td>\n",
              "      <td>0</td>\n",
              "      <td>...</td>\n",
              "      <td>3567</td>\n",
              "      <td>2304</td>\n",
              "      <td>2325</td>\n",
              "      <td>2415</td>\n",
              "      <td>2144</td>\n",
              "      <td>293</td>\n",
              "      <td>0</td>\n",
              "      <td>0</td>\n",
              "      <td>8215</td>\n",
              "      <td>1</td>\n",
              "    </tr>\n",
              "    <tr>\n",
              "      <th>2</th>\n",
              "      <td>0</td>\n",
              "      <td>0</td>\n",
              "      <td>0</td>\n",
              "      <td>0</td>\n",
              "      <td>0</td>\n",
              "      <td>0</td>\n",
              "      <td>0</td>\n",
              "      <td>0</td>\n",
              "      <td>0</td>\n",
              "      <td>0</td>\n",
              "      <td>...</td>\n",
              "      <td>4481</td>\n",
              "      <td>3220</td>\n",
              "      <td>3756</td>\n",
              "      <td>156</td>\n",
              "      <td>1716</td>\n",
              "      <td>161</td>\n",
              "      <td>0</td>\n",
              "      <td>0</td>\n",
              "      <td>2496</td>\n",
              "      <td>1</td>\n",
              "    </tr>\n",
              "    <tr>\n",
              "      <th>3</th>\n",
              "      <td>0</td>\n",
              "      <td>0</td>\n",
              "      <td>0</td>\n",
              "      <td>0</td>\n",
              "      <td>0</td>\n",
              "      <td>0</td>\n",
              "      <td>0</td>\n",
              "      <td>0</td>\n",
              "      <td>0</td>\n",
              "      <td>0</td>\n",
              "      <td>...</td>\n",
              "      <td>1019</td>\n",
              "      <td>4446</td>\n",
              "      <td>1873</td>\n",
              "      <td>1814</td>\n",
              "      <td>1050</td>\n",
              "      <td>458</td>\n",
              "      <td>0</td>\n",
              "      <td>0</td>\n",
              "      <td>5280</td>\n",
              "      <td>1</td>\n",
              "    </tr>\n",
              "    <tr>\n",
              "      <th>4</th>\n",
              "      <td>0</td>\n",
              "      <td>0</td>\n",
              "      <td>0</td>\n",
              "      <td>0</td>\n",
              "      <td>0</td>\n",
              "      <td>0</td>\n",
              "      <td>0</td>\n",
              "      <td>0</td>\n",
              "      <td>0</td>\n",
              "      <td>0</td>\n",
              "      <td>...</td>\n",
              "      <td>8254</td>\n",
              "      <td>2282</td>\n",
              "      <td>0</td>\n",
              "      <td>2605</td>\n",
              "      <td>2762</td>\n",
              "      <td>431</td>\n",
              "      <td>0</td>\n",
              "      <td>0</td>\n",
              "      <td>8286</td>\n",
              "      <td>1</td>\n",
              "    </tr>\n",
              "  </tbody>\n",
              "</table>\n",
              "<p>5 rows × 1031 columns</p>\n",
              "</div>"
            ],
            "text/plain": [
              "   0     1     2     3     4     5     6     7     8     9     ...  1021  \\\n",
              "0     0     0     0     0     0     0     0     0     0     0  ...  4195   \n",
              "1     0     0     0     0     0     0     0     0     0     0  ...  3567   \n",
              "2     0     0     0     0     0     0     0     0     0     0  ...  4481   \n",
              "3     0     0     0     0     0     0     0     0     0     0  ...  1019   \n",
              "4     0     0     0     0     0     0     0     0     0     0  ...  8254   \n",
              "\n",
              "   1022  1023  1024  1025  1026  1027  1028  1029  1030  \n",
              "0  4039  2588   971  1391  1120     0     0  4351     1  \n",
              "1  2304  2325  2415  2144   293     0     0  8215     1  \n",
              "2  3220  3756   156  1716   161     0     0  2496     1  \n",
              "3  4446  1873  1814  1050   458     0     0  5280     1  \n",
              "4  2282     0  2605  2762   431     0     0  8286     1  \n",
              "\n",
              "[5 rows x 1031 columns]"
            ]
          },
          "execution_count": 29,
          "metadata": {},
          "output_type": "execute_result"
        }
      ]
    },
    {
      "cell_type": "code",
      "metadata": {
        "id": "BYORCj6jEUI-"
      },
      "source": [
        "#setting lengths so we don't have to do it manually\n",
        "vector_length = data.shape[1]-1\n",
        "layer_size = math.floor(vector_length/2)\n",
        "\n",
        "table_features = data.copy()\n",
        "labels = table_features.pop(vector_length)\n",
        "scale = table_features.max().max()"
      ],
      "execution_count": null,
      "outputs": []
    },
    {
      "cell_type": "code",
      "metadata": {
        "id": "l49QYmLHEUI_"
      },
      "source": [
        "#scaling the entries to be in the range between 0 and 1\n",
        "table_features = np.array(table_features)\n",
        "table_features=table_features/scale"
      ],
      "execution_count": null,
      "outputs": []
    },
    {
      "cell_type": "code",
      "metadata": {
        "id": "xEPdsX6xEUJA"
      },
      "source": [
        "#creating test and train sets using train_test_split\n",
        "tables_train, tables_test, l_train, l_test = train_test_split(table_features, labels, test_size=0.40, random_state=42, shuffle=True)"
      ],
      "execution_count": null,
      "outputs": []
    },
    {
      "cell_type": "markdown",
      "metadata": {
        "id": "fvOnK7QYEUJB"
      },
      "source": [
        "## 1. Linear model"
      ]
    },
    {
      "cell_type": "code",
      "metadata": {
        "id": "ZvNvfcbwEUJB"
      },
      "source": [
        "linear_model = tf.keras.Sequential([\n",
        "  layers.Dense(layer_size, input_shape = [vector_length]),\n",
        "  layers.Dense(1)\n",
        "])\n",
        "\n",
        "linear_model.compile(loss = 'binary_crossentropy',\n",
        "                      optimizer = tf.optimizers.Adam(),metrics=['binary_accuracy'])"
      ],
      "execution_count": null,
      "outputs": []
    },
    {
      "cell_type": "code",
      "metadata": {
        "id": "xwIWABQxEUJC",
        "outputId": "d0b60731-e482-4dca-c647-72bfb42127d4"
      },
      "source": [
        "history = linear_model.fit(tables_train, l_train, batch_size=5000, epochs=6)"
      ],
      "execution_count": null,
      "outputs": [
        {
          "name": "stderr",
          "output_type": "stream",
          "text": [
            "2021-09-16 17:09:01.845758: I tensorflow/compiler/mlir/mlir_graph_optimization_pass.cc:116] None of the MLIR optimization passes are enabled (registered 2)\n",
            "2021-09-16 17:09:01.865213: I tensorflow/core/platform/profile_utils/cpu_utils.cc:112] CPU Frequency: 2299965000 Hz\n"
          ]
        },
        {
          "name": "stdout",
          "output_type": "stream",
          "text": [
            "Epoch 1/6\n",
            "3/3 [==============================] - 1s 60ms/step - loss: 0.6980 - binary_accuracy: 0.7131\n",
            "Epoch 2/6\n",
            "3/3 [==============================] - 0s 58ms/step - loss: 0.0330 - binary_accuracy: 1.0000\n",
            "Epoch 3/6\n",
            "3/3 [==============================] - 0s 63ms/step - loss: 0.0423 - binary_accuracy: 1.0000\n",
            "Epoch 4/6\n",
            "3/3 [==============================] - 0s 59ms/step - loss: 0.0432 - binary_accuracy: 1.0000\n",
            "Epoch 5/6\n",
            "3/3 [==============================] - 0s 58ms/step - loss: 0.0391 - binary_accuracy: 1.0000\n",
            "Epoch 6/6\n",
            "3/3 [==============================] - 0s 49ms/step - loss: 0.0315 - binary_accuracy: 1.0000\n"
          ]
        }
      ]
    },
    {
      "cell_type": "code",
      "metadata": {
        "id": "3EIc2QcFEUJD",
        "outputId": "012c67e6-3a1a-4aa0-9b40-0bc54d046532"
      },
      "source": [
        "test_loss, test_acc = linear_model.evaluate(tables_test,  l_test, verbose=2)\n",
        "\n",
        "print('\\nTest accuracy:', test_acc)"
      ],
      "execution_count": null,
      "outputs": [
        {
          "name": "stdout",
          "output_type": "stream",
          "text": [
            "250/250 - 0s - loss: 0.0232 - binary_accuracy: 1.0000\n",
            "\n",
            "Test accuracy: 1.0\n"
          ]
        }
      ]
    },
    {
      "cell_type": "code",
      "metadata": {
        "id": "I1h9Lbj_EUJD",
        "outputId": "ba0f1a4b-4c8d-496a-b37f-e95ab1c7125a"
      },
      "source": [
        "# convert the training history to a dataframe\n",
        "history_df = pd.DataFrame(history.history)\n",
        "# use Pandas native plot method\n",
        "history_df['loss'].plot();"
      ],
      "execution_count": null,
      "outputs": [
        {
          "data": {
            "image/png": "[encoded data removed]",
            "text/plain": [
              "<Figure size 432x288 with 1 Axes>"
            ]
          },
          "metadata": {
            "needs_background": "light"
          },
          "output_type": "display_data"
        }
      ]
    },
    {
      "cell_type": "markdown",
      "metadata": {
        "id": "64MKS4umEUJE"
      },
      "source": [
        "## 2. Sequential model with relu and sigmoid activation functions"
      ]
    },
    {
      "cell_type": "code",
      "metadata": {
        "id": "PuHy4sh3EUJE",
        "outputId": "7442e2c7-2528-41b0-fc2e-6e074ac9fa12"
      },
      "source": [
        "s_model = tf.keras.Sequential([\n",
        "  layers.Dense(layer_size, activation = 'relu', \n",
        "               input_shape = [vector_length]),\n",
        "  layers.Dense(1, activation = 'sigmoid')\n",
        "])\n",
        "\n",
        "s_model.compile(loss = 'binary_crossentropy',\n",
        "                      optimizer = tf.optimizers.Adam(),metrics=['binary_accuracy'])\n",
        "\n",
        "#loss='binary_crossentropy',\n",
        "    #metrics=['binary_accuracy'],\n",
        "\n",
        "\n",
        "\n",
        "history2 = s_model.fit(tables_train, l_train, epochs=7)\n",
        "\n",
        "test_loss, test_acc = s_model.evaluate(tables_test,  l_test, verbose=2)\n",
        "\n",
        "print('\\nTest accuracy:', test_acc)\n"
      ],
      "execution_count": null,
      "outputs": [
        {
          "name": "stdout",
          "output_type": "stream",
          "text": [
            "Epoch 1/7\n",
            "375/375 [==============================] - 2s 4ms/step - loss: 0.1680 - binary_accuracy: 0.9857\n",
            "Epoch 2/7\n",
            "375/375 [==============================] - 1s 3ms/step - loss: 0.0020 - binary_accuracy: 1.0000\n",
            "Epoch 3/7\n",
            "375/375 [==============================] - 1s 3ms/step - loss: 5.9831e-04 - binary_accuracy: 1.0000\n",
            "Epoch 4/7\n",
            "375/375 [==============================] - 1s 3ms/step - loss: 2.7945e-04 - binary_accuracy: 1.0000\n",
            "Epoch 5/7\n",
            "375/375 [==============================] - 1s 3ms/step - loss: 1.5948e-04 - binary_accuracy: 1.0000\n",
            "Epoch 6/7\n",
            "375/375 [==============================] - 1s 3ms/step - loss: 1.0127e-04 - binary_accuracy: 1.0000\n",
            "Epoch 7/7\n",
            "375/375 [==============================] - 1s 3ms/step - loss: 6.8047e-05 - binary_accuracy: 1.0000\n",
            "250/250 - 0s - loss: 5.1866e-05 - binary_accuracy: 1.0000\n",
            "\n",
            "Test accuracy: 1.0\n"
          ]
        }
      ]
    },
    {
      "cell_type": "code",
      "metadata": {
        "id": "fptm2xsmEUJF",
        "outputId": "6ae46a16-5132-4080-a0dc-caaf82f18c2a"
      },
      "source": [
        "# convert the training history to a dataframe\n",
        "history2_df = pd.DataFrame(history2.history)\n",
        "# use Pandas native plot method\n",
        "history2_df['loss'].plot();"
      ],
      "execution_count": null,
      "outputs": [
        {
          "data": {
            "image/png": "[encoded data removed]",
            "text/plain": [
              "<Figure size 432x288 with 1 Axes>"
            ]
          },
          "metadata": {
            "needs_background": "light"
          },
          "output_type": "display_data"
        }
      ]
    },
    {
      "cell_type": "markdown",
      "metadata": {
        "id": "ZUoV-j7yEUJF"
      },
      "source": [
        "## Decision trees"
      ]
    },
    {
      "cell_type": "code",
      "metadata": {
        "id": "BdmrhqzuEUJF"
      },
      "source": [
        "from sklearn import tree\n",
        "from sklearn.metrics import mean_absolute_error"
      ],
      "execution_count": null,
      "outputs": []
    },
    {
      "cell_type": "code",
      "metadata": {
        "id": "ETnqOmOtEUJG",
        "outputId": "99a4f669-9c4e-49ff-dcd1-c34c83fbf174"
      },
      "source": [
        "#creating a single sklearn decision tree model\n",
        "singletree= tree.DecisionTreeClassifier()\n",
        "singletree.fit(tables_train,l_train)"
      ],
      "execution_count": null,
      "outputs": [
        {
          "data": {
            "text/plain": [
              "DecisionTreeClassifier()"
            ]
          },
          "execution_count": 19,
          "metadata": {},
          "output_type": "execute_result"
        }
      ]
    },
    {
      "cell_type": "code",
      "metadata": {
        "id": "KkMT8-6OEUJG",
        "outputId": "a3719866-d238-407a-b959-dcd7bfc4525c"
      },
      "source": [
        "tree.plot_tree(singletree) "
      ],
      "execution_count": null,
      "outputs": [
        {
          "data": {
            "text/plain": [
              "[Text(130.78125, 205.35999999999999, 'X[1011] <= 0.106\\ngini = 0.379\\nsamples = 23424\\nvalue = [17470, 5954]'),\n",
              " Text(69.75, 181.2, 'X[1011] <= 0.0\\ngini = 0.025\\nsamples = 17470\\nvalue = [17252, 218]'),\n",
              " Text(41.85, 157.04, 'X[958] <= 0.532\\ngini = 0.0\\nsamples = 16887\\nvalue = [16885, 2]'),\n",
              " Text(27.900000000000002, 132.88, 'X[984] <= 0.406\\ngini = 0.0\\nsamples = 16886\\nvalue = [16885, 1]'),\n",
              " Text(13.950000000000001, 108.72, 'gini = 0.0\\nsamples = 16873\\nvalue = [16873, 0]'),\n",
              " Text(41.85, 108.72, 'X[1002] <= 0.261\\ngini = 0.142\\nsamples = 13\\nvalue = [12, 1]'),\n",
              " Text(27.900000000000002, 84.56, 'gini = 0.0\\nsamples = 12\\nvalue = [12, 0]'),\n",
              " Text(55.800000000000004, 84.56, 'gini = 0.0\\nsamples = 1\\nvalue = [0, 1]'),\n",
              " Text(55.800000000000004, 132.88, 'gini = 0.0\\nsamples = 1\\nvalue = [0, 1]'),\n",
              " Text(97.65, 157.04, 'X[1001] <= 0.0\\ngini = 0.466\\nsamples = 583\\nvalue = [367, 216]'),\n",
              " Text(83.7, 132.88, 'gini = 0.0\\nsamples = 212\\nvalue = [0, 212]'),\n",
              " Text(111.60000000000001, 132.88, 'X[630] <= 0.065\\ngini = 0.021\\nsamples = 371\\nvalue = [367, 4]'),\n",
              " Text(97.65, 108.72, 'X[841] <= 0.115\\ngini = 0.011\\nsamples = 369\\nvalue = [367, 2]'),\n",
              " Text(83.7, 84.56, 'gini = 0.0\\nsamples = 367\\nvalue = [367, 0]'),\n",
              " Text(111.60000000000001, 84.56, 'gini = 0.0\\nsamples = 2\\nvalue = [0, 2]'),\n",
              " Text(125.55000000000001, 108.72, 'gini = 0.0\\nsamples = 2\\nvalue = [0, 2]'),\n",
              " Text(191.81250000000003, 181.2, 'X[1002] <= 0.0\\ngini = 0.071\\nsamples = 5954\\nvalue = [218, 5736]'),\n",
              " Text(153.45000000000002, 157.04, 'X[951] <= 0.053\\ngini = 0.011\\nsamples = 180\\nvalue = [179, 1]'),\n",
              " Text(139.5, 132.88, 'gini = 0.0\\nsamples = 1\\nvalue = [0, 1]'),\n",
              " Text(167.4, 132.88, 'gini = 0.0\\nsamples = 179\\nvalue = [179, 0]'),\n",
              " Text(230.175, 157.04, 'X[993] <= 0.0\\ngini = 0.013\\nsamples = 5774\\nvalue = [39, 5735]'),\n",
              " Text(195.3, 132.88, 'X[981] <= 0.054\\ngini = 0.124\\nsamples = 30\\nvalue = [28, 2]'),\n",
              " Text(181.35000000000002, 108.72, 'gini = 0.0\\nsamples = 2\\nvalue = [0, 2]'),\n",
              " Text(209.25000000000003, 108.72, 'gini = 0.0\\nsamples = 28\\nvalue = [28, 0]'),\n",
              " Text(265.05, 132.88, 'X[975] <= 0.0\\ngini = 0.004\\nsamples = 5744\\nvalue = [11, 5733]'),\n",
              " Text(237.15, 108.72, 'X[760] <= 0.035\\ngini = 0.219\\nsamples = 8\\nvalue = [7, 1]'),\n",
              " Text(223.20000000000002, 84.56, 'gini = 0.0\\nsamples = 7\\nvalue = [7, 0]'),\n",
              " Text(251.10000000000002, 84.56, 'gini = 0.0\\nsamples = 1\\nvalue = [0, 1]'),\n",
              " Text(292.95000000000005, 108.72, 'X[894] <= 0.587\\ngini = 0.001\\nsamples = 5736\\nvalue = [4, 5732]'),\n",
              " Text(279.0, 84.56, 'X[778] <= 0.621\\ngini = 0.001\\nsamples = 5734\\nvalue = [2, 5732]'),\n",
              " Text(251.10000000000002, 60.400000000000006, 'X[1002] <= 0.007\\ngini = 0.0\\nsamples = 5724\\nvalue = [1, 5723]'),\n",
              " Text(237.15, 36.24000000000001, 'X[911] <= 0.109\\ngini = 0.111\\nsamples = 17\\nvalue = [1, 16]'),\n",
              " Text(223.20000000000002, 12.079999999999984, 'gini = 0.0\\nsamples = 16\\nvalue = [0, 16]'),\n",
              " Text(251.10000000000002, 12.079999999999984, 'gini = 0.0\\nsamples = 1\\nvalue = [1, 0]'),\n",
              " Text(265.05, 36.24000000000001, 'gini = 0.0\\nsamples = 5707\\nvalue = [0, 5707]'),\n",
              " Text(306.90000000000003, 60.400000000000006, 'X[913] <= 0.007\\ngini = 0.18\\nsamples = 10\\nvalue = [1, 9]'),\n",
              " Text(292.95000000000005, 36.24000000000001, 'gini = 0.0\\nsamples = 1\\nvalue = [1, 0]'),\n",
              " Text(320.85, 36.24000000000001, 'gini = 0.0\\nsamples = 9\\nvalue = [0, 9]'),\n",
              " Text(306.90000000000003, 84.56, 'gini = 0.0\\nsamples = 2\\nvalue = [2, 0]')]"
            ]
          },
          "execution_count": 20,
          "metadata": {},
          "output_type": "execute_result"
        },
        {
          "data": {
            "image/png": "[encoded data removed]",
            "text/plain": [
              "<Figure size 432x288 with 1 Axes>"
            ]
          },
          "metadata": {
            "needs_background": "light"
          },
          "output_type": "display_data"
        }
      ]
    },
    {
      "cell_type": "code",
      "metadata": {
        "id": "riR9Y6oKEUJG",
        "outputId": "8e113651-b85d-4f25-80af-84025d17d4ed"
      },
      "source": [
        "from sklearn.tree import export_text\n",
        "r= export_text(singletree)\n",
        "print(r)"
      ],
      "execution_count": null,
      "outputs": [
        {
          "name": "stdout",
          "output_type": "stream",
          "text": [
            "|--- feature_1011 <= 0.11\n",
            "|   |--- feature_1011 <= 0.00\n",
            "|   |   |--- feature_958 <= 0.53\n",
            "|   |   |   |--- feature_984 <= 0.41\n",
            "|   |   |   |   |--- class: 0\n",
            "|   |   |   |--- feature_984 >  0.41\n",
            "|   |   |   |   |--- feature_1002 <= 0.26\n",
            "|   |   |   |   |   |--- class: 0\n",
            "|   |   |   |   |--- feature_1002 >  0.26\n",
            "|   |   |   |   |   |--- class: 1\n",
            "|   |   |--- feature_958 >  0.53\n",
            "|   |   |   |--- class: 1\n",
            "|   |--- feature_1011 >  0.00\n",
            "|   |   |--- feature_1001 <= 0.00\n",
            "|   |   |   |--- class: 1\n",
            "|   |   |--- feature_1001 >  0.00\n",
            "|   |   |   |--- feature_630 <= 0.06\n",
            "|   |   |   |   |--- feature_841 <= 0.11\n",
            "|   |   |   |   |   |--- class: 0\n",
            "|   |   |   |   |--- feature_841 >  0.11\n",
            "|   |   |   |   |   |--- class: 1\n",
            "|   |   |   |--- feature_630 >  0.06\n",
            "|   |   |   |   |--- class: 1\n",
            "|--- feature_1011 >  0.11\n",
            "|   |--- feature_1002 <= 0.00\n",
            "|   |   |--- feature_951 <= 0.05\n",
            "|   |   |   |--- class: 1\n",
            "|   |   |--- feature_951 >  0.05\n",
            "|   |   |   |--- class: 0\n",
            "|   |--- feature_1002 >  0.00\n",
            "|   |   |--- feature_993 <= 0.00\n",
            "|   |   |   |--- feature_981 <= 0.05\n",
            "|   |   |   |   |--- class: 1\n",
            "|   |   |   |--- feature_981 >  0.05\n",
            "|   |   |   |   |--- class: 0\n",
            "|   |   |--- feature_993 >  0.00\n",
            "|   |   |   |--- feature_975 <= 0.00\n",
            "|   |   |   |   |--- feature_760 <= 0.04\n",
            "|   |   |   |   |   |--- class: 0\n",
            "|   |   |   |   |--- feature_760 >  0.04\n",
            "|   |   |   |   |   |--- class: 1\n",
            "|   |   |   |--- feature_975 >  0.00\n",
            "|   |   |   |   |--- feature_894 <= 0.59\n",
            "|   |   |   |   |   |--- feature_778 <= 0.62\n",
            "|   |   |   |   |   |   |--- feature_1002 <= 0.01\n",
            "|   |   |   |   |   |   |   |--- feature_911 <= 0.11\n",
            "|   |   |   |   |   |   |   |   |--- class: 1\n",
            "|   |   |   |   |   |   |   |--- feature_911 >  0.11\n",
            "|   |   |   |   |   |   |   |   |--- class: 0\n",
            "|   |   |   |   |   |   |--- feature_1002 >  0.01\n",
            "|   |   |   |   |   |   |   |--- class: 1\n",
            "|   |   |   |   |   |--- feature_778 >  0.62\n",
            "|   |   |   |   |   |   |--- feature_913 <= 0.01\n",
            "|   |   |   |   |   |   |   |--- class: 0\n",
            "|   |   |   |   |   |   |--- feature_913 >  0.01\n",
            "|   |   |   |   |   |   |   |--- class: 1\n",
            "|   |   |   |   |--- feature_894 >  0.59\n",
            "|   |   |   |   |   |--- class: 0\n",
            "\n"
          ]
        }
      ]
    },
    {
      "cell_type": "code",
      "metadata": {
        "id": "D_In5UJnEUJG",
        "outputId": "a175fa56-edea-42f1-9b35-54b5b5c56c35"
      },
      "source": [
        "import graphviz \n",
        "dot_data = tree.export_graphviz(singletree, out_file=None) \n",
        "graph = graphviz.Source(dot_data) \n",
        "graph.render(\"tree_var10_2\") "
      ],
      "execution_count": null,
      "outputs": [
        {
          "data": {
            "text/plain": [
              "'tree_var10_2.pdf'"
            ]
          },
          "execution_count": 22,
          "metadata": {},
          "output_type": "execute_result"
        }
      ]
    },
    {
      "cell_type": "code",
      "metadata": {
        "id": "0h_ArCTHEUJH",
        "outputId": "8f785627-e8c1-4818-f3f3-cf69f04f9c29"
      },
      "source": [
        "dot_data = tree.export_graphviz(singletree, out_file=None, \n",
        "                      feature_names= None,  \n",
        "                      class_names = ['nontable','table'],  \n",
        "                      filled=True, rounded=True,  \n",
        "                      special_characters=True)  \n",
        "graph = graphviz.Source(dot_data)  \n",
        "graph "
      ],
      "execution_count": null,
      "outputs": [
        {
          "data": {
            "image/svg+xml": [
              "<?xml version=\"1.0\" encoding=\"UTF-8\" standalone=\"no\"?>\n",
              "<!DOCTYPE svg PUBLIC \"-//W3C//DTD SVG 1.1//EN\"\n",
              " \"http://www.w3.org/Graphics/SVG/1.1/DTD/svg11.dtd\">\n",
              "<!-- Generated by graphviz version 2.43.0 (0)\n",
              " -->\n",
              "<!-- Title: Tree Pages: 1 -->\n",
              "<svg width=\"1429pt\" height=\"988pt\"\n",
              " viewBox=\"0.00 0.00 1429.00 988.00\" xmlns=\"http://www.w3.org/2000/svg\" xmlns:xlink=\"http://www.w3.org/1999/xlink\">\n",
              "<g id=\"graph0\" class=\"graph\" transform=\"scale(1 1) rotate(0) translate(4 984)\">\n",
              "<title>Tree</title>\n",
              "<polygon fill=\"white\" stroke=\"transparent\" points=\"-4,4 -4,-984 1425,-984 1425,4 -4,4\"/>\n",
              "<!-- 0 -->\n",
              "<g id=\"node1\" class=\"node\">\n",
              "<title>0</title>\n",
              "<path fill=\"#eeac7c\" stroke=\"black\" d=\"M645,-980C645,-980 522,-980 522,-980 516,-980 510,-974 510,-968 510,-968 510,-914 510,-914 510,-908 516,-902 522,-902 522,-902 645,-902 645,-902 651,-902 657,-908 657,-914 657,-914 657,-968 657,-968 657,-974 651,-980 645,-980\"/>\n",
              "<text text-anchor=\"start\" x=\"541\" y=\"-965.8\" font-family=\"Helvetica,sans-Serif\" font-size=\"14.00\">X</text>\n",
              "<text text-anchor=\"start\" x=\"551\" y=\"-965.8\" font-family=\"Helvetica,sans-Serif\" baseline-shift=\"sub\" font-size=\"14.00\">1011</text>\n",
              "<text text-anchor=\"start\" x=\"577\" y=\"-965.8\" font-family=\"Helvetica,sans-Serif\" font-size=\"14.00\"> ≤ 0.106</text>\n",
              "<text text-anchor=\"start\" x=\"548\" y=\"-951.8\" font-family=\"Helvetica,sans-Serif\" font-size=\"14.00\">gini = 0.379</text>\n",
              "<text text-anchor=\"start\" x=\"531\" y=\"-937.8\" font-family=\"Helvetica,sans-Serif\" font-size=\"14.00\">samples = 23424</text>\n",
              "<text text-anchor=\"start\" x=\"518\" y=\"-923.8\" font-family=\"Helvetica,sans-Serif\" font-size=\"14.00\">value = [17470, 5954]</text>\n",
              "<text text-anchor=\"start\" x=\"534\" y=\"-909.8\" font-family=\"Helvetica,sans-Serif\" font-size=\"14.00\">class = nontable</text>\n",
              "</g>\n",
              "<!-- 1 -->\n",
              "<g id=\"node2\" class=\"node\">\n",
              "<title>1</title>\n",
              "<path fill=\"#e5833c\" stroke=\"black\" d=\"M525.5,-866C525.5,-866 409.5,-866 409.5,-866 403.5,-866 397.5,-860 397.5,-854 397.5,-854 397.5,-800 397.5,-800 397.5,-794 403.5,-788 409.5,-788 409.5,-788 525.5,-788 525.5,-788 531.5,-788 537.5,-794 537.5,-800 537.5,-800 537.5,-854 537.5,-854 537.5,-860 531.5,-866 525.5,-866\"/>\n",
              "<text text-anchor=\"start\" x=\"432.5\" y=\"-851.8\" font-family=\"Helvetica,sans-Serif\" font-size=\"14.00\">X</text>\n",
              "<text text-anchor=\"start\" x=\"442.5\" y=\"-851.8\" font-family=\"Helvetica,sans-Serif\" baseline-shift=\"sub\" font-size=\"14.00\">1011</text>\n",
              "<text text-anchor=\"start\" x=\"468.5\" y=\"-851.8\" font-family=\"Helvetica,sans-Serif\" font-size=\"14.00\"> ≤ 0.0</text>\n",
              "<text text-anchor=\"start\" x=\"432\" y=\"-837.8\" font-family=\"Helvetica,sans-Serif\" font-size=\"14.00\">gini = 0.025</text>\n",
              "<text text-anchor=\"start\" x=\"415\" y=\"-823.8\" font-family=\"Helvetica,sans-Serif\" font-size=\"14.00\">samples = 17470</text>\n",
              "<text text-anchor=\"start\" x=\"405.5\" y=\"-809.8\" font-family=\"Helvetica,sans-Serif\" font-size=\"14.00\">value = [17252, 218]</text>\n",
              "<text text-anchor=\"start\" x=\"418\" y=\"-795.8\" font-family=\"Helvetica,sans-Serif\" font-size=\"14.00\">class = nontable</text>\n",
              "</g>\n",
              "<!-- 0&#45;&gt;1 -->\n",
              "<g id=\"edge1\" class=\"edge\">\n",
              "<title>0&#45;&gt;1</title>\n",
              "<path fill=\"none\" stroke=\"black\" d=\"M543.9,-901.77C534.38,-892.58 524.13,-882.68 514.32,-873.2\"/>\n",
              "<polygon fill=\"black\" stroke=\"black\" points=\"516.54,-870.49 506.92,-866.06 511.68,-875.52 516.54,-870.49\"/>\n",
              "<text text-anchor=\"middle\" x=\"507.36\" y=\"-887.35\" font-family=\"Helvetica,sans-Serif\" font-size=\"14.00\">True</text>\n",
              "</g>\n",
              "<!-- 16 -->\n",
              "<g id=\"node17\" class=\"node\">\n",
              "<title>16</title>\n",
              "<path fill=\"#41a1e6\" stroke=\"black\" d=\"M773.5,-866C773.5,-866 665.5,-866 665.5,-866 659.5,-866 653.5,-860 653.5,-854 653.5,-854 653.5,-800 653.5,-800 653.5,-794 659.5,-788 665.5,-788 665.5,-788 773.5,-788 773.5,-788 779.5,-788 785.5,-794 785.5,-800 785.5,-800 785.5,-854 785.5,-854 785.5,-860 779.5,-866 773.5,-866\"/>\n",
              "<text text-anchor=\"start\" x=\"683.5\" y=\"-851.8\" font-family=\"Helvetica,sans-Serif\" font-size=\"14.00\">X</text>\n",
              "<text text-anchor=\"start\" x=\"693.5\" y=\"-851.8\" font-family=\"Helvetica,sans-Serif\" baseline-shift=\"sub\" font-size=\"14.00\">1002</text>\n",
              "<text text-anchor=\"start\" x=\"721.5\" y=\"-851.8\" font-family=\"Helvetica,sans-Serif\" font-size=\"14.00\"> ≤ 0.0</text>\n",
              "<text text-anchor=\"start\" x=\"684\" y=\"-837.8\" font-family=\"Helvetica,sans-Serif\" font-size=\"14.00\">gini = 0.071</text>\n",
              "<text text-anchor=\"start\" x=\"671\" y=\"-823.8\" font-family=\"Helvetica,sans-Serif\" font-size=\"14.00\">samples = 5954</text>\n",
              "<text text-anchor=\"start\" x=\"661.5\" y=\"-809.8\" font-family=\"Helvetica,sans-Serif\" font-size=\"14.00\">value = [218, 5736]</text>\n",
              "<text text-anchor=\"start\" x=\"681.5\" y=\"-795.8\" font-family=\"Helvetica,sans-Serif\" font-size=\"14.00\">class = table</text>\n",
              "</g>\n",
              "<!-- 0&#45;&gt;16 -->\n",
              "<g id=\"edge16\" class=\"edge\">\n",
              "<title>0&#45;&gt;16</title>\n",
              "<path fill=\"none\" stroke=\"black\" d=\"M629.92,-901.77C641.3,-892.4 653.58,-882.29 665.29,-872.64\"/>\n",
              "<polygon fill=\"black\" stroke=\"black\" points=\"667.79,-875.12 673.29,-866.06 663.34,-869.71 667.79,-875.12\"/>\n",
              "<text text-anchor=\"middle\" x=\"670.88\" y=\"-887.24\" font-family=\"Helvetica,sans-Serif\" font-size=\"14.00\">False</text>\n",
              "</g>\n",
              "<!-- 2 -->\n",
              "<g id=\"node3\" class=\"node\">\n",
              "<title>2</title>\n",
              "<path fill=\"#e58139\" stroke=\"black\" d=\"M336,-752C336,-752 235,-752 235,-752 229,-752 223,-746 223,-740 223,-740 223,-686 223,-686 223,-680 229,-674 235,-674 235,-674 336,-674 336,-674 342,-674 348,-680 348,-686 348,-686 348,-740 348,-740 348,-746 342,-752 336,-752\"/>\n",
              "<text text-anchor=\"start\" x=\"245.5\" y=\"-737.8\" font-family=\"Helvetica,sans-Serif\" font-size=\"14.00\">X</text>\n",
              "<text text-anchor=\"start\" x=\"255.5\" y=\"-737.8\" font-family=\"Helvetica,sans-Serif\" baseline-shift=\"sub\" font-size=\"14.00\">958</text>\n",
              "<text text-anchor=\"start\" x=\"276.5\" y=\"-737.8\" font-family=\"Helvetica,sans-Serif\" font-size=\"14.00\"> ≤ 0.532</text>\n",
              "<text text-anchor=\"start\" x=\"257.5\" y=\"-723.8\" font-family=\"Helvetica,sans-Serif\" font-size=\"14.00\">gini = 0.0</text>\n",
              "<text text-anchor=\"start\" x=\"233\" y=\"-709.8\" font-family=\"Helvetica,sans-Serif\" font-size=\"14.00\">samples = 16887</text>\n",
              "<text text-anchor=\"start\" x=\"231\" y=\"-695.8\" font-family=\"Helvetica,sans-Serif\" font-size=\"14.00\">value = [16885, 2]</text>\n",
              "<text text-anchor=\"start\" x=\"236\" y=\"-681.8\" font-family=\"Helvetica,sans-Serif\" font-size=\"14.00\">class = nontable</text>\n",
              "</g>\n",
              "<!-- 1&#45;&gt;2 -->\n",
              "<g id=\"edge2\" class=\"edge\">\n",
              "<title>1&#45;&gt;2</title>\n",
              "<path fill=\"none\" stroke=\"black\" d=\"M405.63,-787.93C389.8,-778.19 372.67,-767.64 356.43,-757.65\"/>\n",
              "<polygon fill=\"black\" stroke=\"black\" points=\"357.86,-754.42 347.51,-752.16 354.19,-760.38 357.86,-754.42\"/>\n",
              "</g>\n",
              "<!-- 9 -->\n",
              "<g id=\"node10\" class=\"node\">\n",
              "<title>9</title>\n",
              "<path fill=\"#f4cbae\" stroke=\"black\" d=\"M518,-752C518,-752 417,-752 417,-752 411,-752 405,-746 405,-740 405,-740 405,-686 405,-686 405,-680 411,-674 417,-674 417,-674 518,-674 518,-674 524,-674 530,-680 530,-686 530,-686 530,-740 530,-740 530,-746 524,-752 518,-752\"/>\n",
              "<text text-anchor=\"start\" x=\"431.5\" y=\"-737.8\" font-family=\"Helvetica,sans-Serif\" font-size=\"14.00\">X</text>\n",
              "<text text-anchor=\"start\" x=\"441.5\" y=\"-737.8\" font-family=\"Helvetica,sans-Serif\" baseline-shift=\"sub\" font-size=\"14.00\">1001</text>\n",
              "<text text-anchor=\"start\" x=\"469.5\" y=\"-737.8\" font-family=\"Helvetica,sans-Serif\" font-size=\"14.00\"> ≤ 0.0</text>\n",
              "<text text-anchor=\"start\" x=\"432\" y=\"-723.8\" font-family=\"Helvetica,sans-Serif\" font-size=\"14.00\">gini = 0.466</text>\n",
              "<text text-anchor=\"start\" x=\"422.5\" y=\"-709.8\" font-family=\"Helvetica,sans-Serif\" font-size=\"14.00\">samples = 583</text>\n",
              "<text text-anchor=\"start\" x=\"413\" y=\"-695.8\" font-family=\"Helvetica,sans-Serif\" font-size=\"14.00\">value = [367, 216]</text>\n",
              "<text text-anchor=\"start\" x=\"418\" y=\"-681.8\" font-family=\"Helvetica,sans-Serif\" font-size=\"14.00\">class = nontable</text>\n",
              "</g>\n",
              "<!-- 1&#45;&gt;9 -->\n",
              "<g id=\"edge9\" class=\"edge\">\n",
              "<title>1&#45;&gt;9</title>\n",
              "<path fill=\"none\" stroke=\"black\" d=\"M467.5,-787.77C467.5,-779.57 467.5,-770.8 467.5,-762.28\"/>\n",
              "<polygon fill=\"black\" stroke=\"black\" points=\"471,-762.06 467.5,-752.06 464,-762.06 471,-762.06\"/>\n",
              "</g>\n",
              "<!-- 3 -->\n",
              "<g id=\"node4\" class=\"node\">\n",
              "<title>3</title>\n",
              "<path fill=\"#e58139\" stroke=\"black\" d=\"M208,-638C208,-638 107,-638 107,-638 101,-638 95,-632 95,-626 95,-626 95,-572 95,-572 95,-566 101,-560 107,-560 107,-560 208,-560 208,-560 214,-560 220,-566 220,-572 220,-572 220,-626 220,-626 220,-632 214,-638 208,-638\"/>\n",
              "<text text-anchor=\"start\" x=\"117.5\" y=\"-623.8\" font-family=\"Helvetica,sans-Serif\" font-size=\"14.00\">X</text>\n",
              "<text text-anchor=\"start\" x=\"127.5\" y=\"-623.8\" font-family=\"Helvetica,sans-Serif\" baseline-shift=\"sub\" font-size=\"14.00\">984</text>\n",
              "<text text-anchor=\"start\" x=\"148.5\" y=\"-623.8\" font-family=\"Helvetica,sans-Serif\" font-size=\"14.00\"> ≤ 0.406</text>\n",
              "<text text-anchor=\"start\" x=\"129.5\" y=\"-609.8\" font-family=\"Helvetica,sans-Serif\" font-size=\"14.00\">gini = 0.0</text>\n",
              "<text text-anchor=\"start\" x=\"105\" y=\"-595.8\" font-family=\"Helvetica,sans-Serif\" font-size=\"14.00\">samples = 16886</text>\n",
              "<text text-anchor=\"start\" x=\"103\" y=\"-581.8\" font-family=\"Helvetica,sans-Serif\" font-size=\"14.00\">value = [16885, 1]</text>\n",
              "<text text-anchor=\"start\" x=\"108\" y=\"-567.8\" font-family=\"Helvetica,sans-Serif\" font-size=\"14.00\">class = nontable</text>\n",
              "</g>\n",
              "<!-- 2&#45;&gt;3 -->\n",
              "<g id=\"edge3\" class=\"edge\">\n",
              "<title>2&#45;&gt;3</title>\n",
              "<path fill=\"none\" stroke=\"black\" d=\"M241.81,-673.77C231.1,-664.4 219.54,-654.29 208.52,-644.64\"/>\n",
              "<polygon fill=\"black\" stroke=\"black\" points=\"210.83,-642.01 201,-638.06 206.22,-647.28 210.83,-642.01\"/>\n",
              "</g>\n",
              "<!-- 8 -->\n",
              "<g id=\"node9\" class=\"node\">\n",
              "<title>8</title>\n",
              "<path fill=\"#399de5\" stroke=\"black\" d=\"M321,-633C321,-633 250,-633 250,-633 244,-633 238,-627 238,-621 238,-621 238,-577 238,-577 238,-571 244,-565 250,-565 250,-565 321,-565 321,-565 327,-565 333,-571 333,-577 333,-577 333,-621 333,-621 333,-627 327,-633 321,-633\"/>\n",
              "<text text-anchor=\"start\" x=\"257.5\" y=\"-617.8\" font-family=\"Helvetica,sans-Serif\" font-size=\"14.00\">gini = 0.0</text>\n",
              "<text text-anchor=\"start\" x=\"248\" y=\"-602.8\" font-family=\"Helvetica,sans-Serif\" font-size=\"14.00\">samples = 1</text>\n",
              "<text text-anchor=\"start\" x=\"246\" y=\"-587.8\" font-family=\"Helvetica,sans-Serif\" font-size=\"14.00\">value = [0, 1]</text>\n",
              "<text text-anchor=\"start\" x=\"247.5\" y=\"-572.8\" font-family=\"Helvetica,sans-Serif\" font-size=\"14.00\">class = table</text>\n",
              "</g>\n",
              "<!-- 2&#45;&gt;8 -->\n",
              "<g id=\"edge8\" class=\"edge\">\n",
              "<title>2&#45;&gt;8</title>\n",
              "<path fill=\"none\" stroke=\"black\" d=\"M285.5,-673.77C285.5,-663.99 285.5,-653.4 285.5,-643.38\"/>\n",
              "<polygon fill=\"black\" stroke=\"black\" points=\"289,-643.2 285.5,-633.2 282,-643.2 289,-643.2\"/>\n",
              "</g>\n",
              "<!-- 4 -->\n",
              "<g id=\"node5\" class=\"node\">\n",
              "<title>4</title>\n",
              "<path fill=\"#e58139\" stroke=\"black\" d=\"M113,-519C113,-519 12,-519 12,-519 6,-519 0,-513 0,-507 0,-507 0,-463 0,-463 0,-457 6,-451 12,-451 12,-451 113,-451 113,-451 119,-451 125,-457 125,-463 125,-463 125,-507 125,-507 125,-513 119,-519 113,-519\"/>\n",
              "<text text-anchor=\"start\" x=\"34.5\" y=\"-503.8\" font-family=\"Helvetica,sans-Serif\" font-size=\"14.00\">gini = 0.0</text>\n",
              "<text text-anchor=\"start\" x=\"10\" y=\"-488.8\" font-family=\"Helvetica,sans-Serif\" font-size=\"14.00\">samples = 16873</text>\n",
              "<text text-anchor=\"start\" x=\"8\" y=\"-473.8\" font-family=\"Helvetica,sans-Serif\" font-size=\"14.00\">value = [16873, 0]</text>\n",
              "<text text-anchor=\"start\" x=\"13\" y=\"-458.8\" font-family=\"Helvetica,sans-Serif\" font-size=\"14.00\">class = nontable</text>\n",
              "</g>\n",
              "<!-- 3&#45;&gt;4 -->\n",
              "<g id=\"edge4\" class=\"edge\">\n",
              "<title>3&#45;&gt;4</title>\n",
              "<path fill=\"none\" stroke=\"black\" d=\"M125.07,-559.77C116.08,-549.16 106.27,-537.61 97.16,-526.86\"/>\n",
              "<polygon fill=\"black\" stroke=\"black\" points=\"99.8,-524.56 90.66,-519.2 94.46,-529.09 99.8,-524.56\"/>\n",
              "</g>\n",
              "<!-- 5 -->\n",
              "<g id=\"node6\" class=\"node\">\n",
              "<title>5</title>\n",
              "<path fill=\"#e78c49\" stroke=\"black\" d=\"M246,-524C246,-524 155,-524 155,-524 149,-524 143,-518 143,-512 143,-512 143,-458 143,-458 143,-452 149,-446 155,-446 155,-446 246,-446 246,-446 252,-446 258,-452 258,-458 258,-458 258,-512 258,-512 258,-518 252,-524 246,-524\"/>\n",
              "<text text-anchor=\"start\" x=\"157\" y=\"-509.8\" font-family=\"Helvetica,sans-Serif\" font-size=\"14.00\">X</text>\n",
              "<text text-anchor=\"start\" x=\"167\" y=\"-509.8\" font-family=\"Helvetica,sans-Serif\" baseline-shift=\"sub\" font-size=\"14.00\">1002</text>\n",
              "<text text-anchor=\"start\" x=\"195\" y=\"-509.8\" font-family=\"Helvetica,sans-Serif\" font-size=\"14.00\"> ≤ 0.261</text>\n",
              "<text text-anchor=\"start\" x=\"165\" y=\"-495.8\" font-family=\"Helvetica,sans-Serif\" font-size=\"14.00\">gini = 0.142</text>\n",
              "<text text-anchor=\"start\" x=\"159.5\" y=\"-481.8\" font-family=\"Helvetica,sans-Serif\" font-size=\"14.00\">samples = 13</text>\n",
              "<text text-anchor=\"start\" x=\"157.5\" y=\"-467.8\" font-family=\"Helvetica,sans-Serif\" font-size=\"14.00\">value = [12, 1]</text>\n",
              "<text text-anchor=\"start\" x=\"151\" y=\"-453.8\" font-family=\"Helvetica,sans-Serif\" font-size=\"14.00\">class = nontable</text>\n",
              "</g>\n",
              "<!-- 3&#45;&gt;5 -->\n",
              "<g id=\"edge5\" class=\"edge\">\n",
              "<title>3&#45;&gt;5</title>\n",
              "<path fill=\"none\" stroke=\"black\" d=\"M172.18,-559.77C175.43,-551.3 178.91,-542.22 182.29,-533.44\"/>\n",
              "<polygon fill=\"black\" stroke=\"black\" points=\"185.57,-534.65 185.89,-524.06 179.04,-532.14 185.57,-534.65\"/>\n",
              "</g>\n",
              "<!-- 6 -->\n",
              "<g id=\"node7\" class=\"node\">\n",
              "<title>6</title>\n",
              "<path fill=\"#e58139\" stroke=\"black\" d=\"M194,-405C194,-405 103,-405 103,-405 97,-405 91,-399 91,-393 91,-393 91,-349 91,-349 91,-343 97,-337 103,-337 103,-337 194,-337 194,-337 200,-337 206,-343 206,-349 206,-349 206,-393 206,-393 206,-399 200,-405 194,-405\"/>\n",
              "<text text-anchor=\"start\" x=\"120.5\" y=\"-389.8\" font-family=\"Helvetica,sans-Serif\" font-size=\"14.00\">gini = 0.0</text>\n",
              "<text text-anchor=\"start\" x=\"107.5\" y=\"-374.8\" font-family=\"Helvetica,sans-Serif\" font-size=\"14.00\">samples = 12</text>\n",
              "<text text-anchor=\"start\" x=\"105.5\" y=\"-359.8\" font-family=\"Helvetica,sans-Serif\" font-size=\"14.00\">value = [12, 0]</text>\n",
              "<text text-anchor=\"start\" x=\"99\" y=\"-344.8\" font-family=\"Helvetica,sans-Serif\" font-size=\"14.00\">class = nontable</text>\n",
              "</g>\n",
              "<!-- 5&#45;&gt;6 -->\n",
              "<g id=\"edge6\" class=\"edge\">\n",
              "<title>5&#45;&gt;6</title>\n",
              "<path fill=\"none\" stroke=\"black\" d=\"M182.75,-445.77C178.06,-435.68 172.98,-424.73 168.2,-414.43\"/>\n",
              "<polygon fill=\"black\" stroke=\"black\" points=\"171.3,-412.79 163.91,-405.2 164.95,-415.74 171.3,-412.79\"/>\n",
              "</g>\n",
              "<!-- 7 -->\n",
              "<g id=\"node8\" class=\"node\">\n",
              "<title>7</title>\n",
              "<path fill=\"#399de5\" stroke=\"black\" d=\"M307,-405C307,-405 236,-405 236,-405 230,-405 224,-399 224,-393 224,-393 224,-349 224,-349 224,-343 230,-337 236,-337 236,-337 307,-337 307,-337 313,-337 319,-343 319,-349 319,-349 319,-393 319,-393 319,-399 313,-405 307,-405\"/>\n",
              "<text text-anchor=\"start\" x=\"243.5\" y=\"-389.8\" font-family=\"Helvetica,sans-Serif\" font-size=\"14.00\">gini = 0.0</text>\n",
              "<text text-anchor=\"start\" x=\"234\" y=\"-374.8\" font-family=\"Helvetica,sans-Serif\" font-size=\"14.00\">samples = 1</text>\n",
              "<text text-anchor=\"start\" x=\"232\" y=\"-359.8\" font-family=\"Helvetica,sans-Serif\" font-size=\"14.00\">value = [0, 1]</text>\n",
              "<text text-anchor=\"start\" x=\"233.5\" y=\"-344.8\" font-family=\"Helvetica,sans-Serif\" font-size=\"14.00\">class = table</text>\n",
              "</g>\n",
              "<!-- 5&#45;&gt;7 -->\n",
              "<g id=\"edge7\" class=\"edge\">\n",
              "<title>5&#45;&gt;7</title>\n",
              "<path fill=\"none\" stroke=\"black\" d=\"M224.74,-445.77C231.26,-435.47 238.36,-424.28 245,-413.8\"/>\n",
              "<polygon fill=\"black\" stroke=\"black\" points=\"248.06,-415.52 250.46,-405.2 242.15,-411.77 248.06,-415.52\"/>\n",
              "</g>\n",
              "<!-- 10 -->\n",
              "<g id=\"node11\" class=\"node\">\n",
              "<title>10</title>\n",
              "<path fill=\"#399de5\" stroke=\"black\" d=\"M449.5,-633C449.5,-633 363.5,-633 363.5,-633 357.5,-633 351.5,-627 351.5,-621 351.5,-621 351.5,-577 351.5,-577 351.5,-571 357.5,-565 363.5,-565 363.5,-565 449.5,-565 449.5,-565 455.5,-565 461.5,-571 461.5,-577 461.5,-577 461.5,-621 461.5,-621 461.5,-627 455.5,-633 449.5,-633\"/>\n",
              "<text text-anchor=\"start\" x=\"378.5\" y=\"-617.8\" font-family=\"Helvetica,sans-Serif\" font-size=\"14.00\">gini = 0.0</text>\n",
              "<text text-anchor=\"start\" x=\"361.5\" y=\"-602.8\" font-family=\"Helvetica,sans-Serif\" font-size=\"14.00\">samples = 212</text>\n",
              "<text text-anchor=\"start\" x=\"359.5\" y=\"-587.8\" font-family=\"Helvetica,sans-Serif\" font-size=\"14.00\">value = [0, 212]</text>\n",
              "<text text-anchor=\"start\" x=\"368.5\" y=\"-572.8\" font-family=\"Helvetica,sans-Serif\" font-size=\"14.00\">class = table</text>\n",
              "</g>\n",
              "<!-- 9&#45;&gt;10 -->\n",
              "<g id=\"edge10\" class=\"edge\">\n",
              "<title>9&#45;&gt;10</title>\n",
              "<path fill=\"none\" stroke=\"black\" d=\"M446.68,-673.77C441.13,-663.57 435.1,-652.5 429.44,-642.11\"/>\n",
              "<polygon fill=\"black\" stroke=\"black\" points=\"432.44,-640.3 424.58,-633.2 426.29,-643.65 432.44,-640.3\"/>\n",
              "</g>\n",
              "<!-- 11 -->\n",
              "<g id=\"node12\" class=\"node\">\n",
              "<title>11</title>\n",
              "<path fill=\"#e5823b\" stroke=\"black\" d=\"M583,-638C583,-638 492,-638 492,-638 486,-638 480,-632 480,-626 480,-626 480,-572 480,-572 480,-566 486,-560 492,-560 492,-560 583,-560 583,-560 589,-560 595,-566 595,-572 595,-572 595,-626 595,-626 595,-632 589,-638 583,-638\"/>\n",
              "<text text-anchor=\"start\" x=\"497.5\" y=\"-623.8\" font-family=\"Helvetica,sans-Serif\" font-size=\"14.00\">X</text>\n",
              "<text text-anchor=\"start\" x=\"507.5\" y=\"-623.8\" font-family=\"Helvetica,sans-Serif\" baseline-shift=\"sub\" font-size=\"14.00\">630</text>\n",
              "<text text-anchor=\"start\" x=\"528.5\" y=\"-623.8\" font-family=\"Helvetica,sans-Serif\" font-size=\"14.00\"> ≤ 0.065</text>\n",
              "<text text-anchor=\"start\" x=\"502\" y=\"-609.8\" font-family=\"Helvetica,sans-Serif\" font-size=\"14.00\">gini = 0.021</text>\n",
              "<text text-anchor=\"start\" x=\"492.5\" y=\"-595.8\" font-family=\"Helvetica,sans-Serif\" font-size=\"14.00\">samples = 371</text>\n",
              "<text text-anchor=\"start\" x=\"490.5\" y=\"-581.8\" font-family=\"Helvetica,sans-Serif\" font-size=\"14.00\">value = [367, 4]</text>\n",
              "<text text-anchor=\"start\" x=\"488\" y=\"-567.8\" font-family=\"Helvetica,sans-Serif\" font-size=\"14.00\">class = nontable</text>\n",
              "</g>\n",
              "<!-- 9&#45;&gt;11 -->\n",
              "<g id=\"edge11\" class=\"edge\">\n",
              "<title>9&#45;&gt;11</title>\n",
              "<path fill=\"none\" stroke=\"black\" d=\"M491.39,-673.77C496.86,-665.03 502.72,-655.64 508.38,-646.6\"/>\n",
              "<polygon fill=\"black\" stroke=\"black\" points=\"511.38,-648.39 513.71,-638.06 505.45,-644.68 511.38,-648.39\"/>\n",
              "</g>\n",
              "<!-- 12 -->\n",
              "<g id=\"node13\" class=\"node\">\n",
              "<title>12</title>\n",
              "<path fill=\"#e5823a\" stroke=\"black\" d=\"M550,-524C550,-524 459,-524 459,-524 453,-524 447,-518 447,-512 447,-512 447,-458 447,-458 447,-452 453,-446 459,-446 459,-446 550,-446 550,-446 556,-446 562,-452 562,-458 562,-458 562,-512 562,-512 562,-518 556,-524 550,-524\"/>\n",
              "<text text-anchor=\"start\" x=\"464.5\" y=\"-509.8\" font-family=\"Helvetica,sans-Serif\" font-size=\"14.00\">X</text>\n",
              "<text text-anchor=\"start\" x=\"474.5\" y=\"-509.8\" font-family=\"Helvetica,sans-Serif\" baseline-shift=\"sub\" font-size=\"14.00\">841</text>\n",
              "<text text-anchor=\"start\" x=\"495.5\" y=\"-509.8\" font-family=\"Helvetica,sans-Serif\" font-size=\"14.00\"> ≤ 0.115</text>\n",
              "<text text-anchor=\"start\" x=\"469\" y=\"-495.8\" font-family=\"Helvetica,sans-Serif\" font-size=\"14.00\">gini = 0.011</text>\n",
              "<text text-anchor=\"start\" x=\"459.5\" y=\"-481.8\" font-family=\"Helvetica,sans-Serif\" font-size=\"14.00\">samples = 369</text>\n",
              "<text text-anchor=\"start\" x=\"457.5\" y=\"-467.8\" font-family=\"Helvetica,sans-Serif\" font-size=\"14.00\">value = [367, 2]</text>\n",
              "<text text-anchor=\"start\" x=\"455\" y=\"-453.8\" font-family=\"Helvetica,sans-Serif\" font-size=\"14.00\">class = nontable</text>\n",
              "</g>\n",
              "<!-- 11&#45;&gt;12 -->\n",
              "<g id=\"edge12\" class=\"edge\">\n",
              "<title>11&#45;&gt;12</title>\n",
              "<path fill=\"none\" stroke=\"black\" d=\"M526.24,-559.77C523.77,-551.39 521.12,-542.42 518.56,-533.72\"/>\n",
              "<polygon fill=\"black\" stroke=\"black\" points=\"521.9,-532.66 515.71,-524.06 515.18,-534.64 521.9,-532.66\"/>\n",
              "</g>\n",
              "<!-- 15 -->\n",
              "<g id=\"node16\" class=\"node\">\n",
              "<title>15</title>\n",
              "<path fill=\"#399de5\" stroke=\"black\" d=\"M663,-519C663,-519 592,-519 592,-519 586,-519 580,-513 580,-507 580,-507 580,-463 580,-463 580,-457 586,-451 592,-451 592,-451 663,-451 663,-451 669,-451 675,-457 675,-463 675,-463 675,-507 675,-507 675,-513 669,-519 663,-519\"/>\n",
              "<text text-anchor=\"start\" x=\"599.5\" y=\"-503.8\" font-family=\"Helvetica,sans-Serif\" font-size=\"14.00\">gini = 0.0</text>\n",
              "<text text-anchor=\"start\" x=\"590\" y=\"-488.8\" font-family=\"Helvetica,sans-Serif\" font-size=\"14.00\">samples = 2</text>\n",
              "<text text-anchor=\"start\" x=\"588\" y=\"-473.8\" font-family=\"Helvetica,sans-Serif\" font-size=\"14.00\">value = [0, 2]</text>\n",
              "<text text-anchor=\"start\" x=\"589.5\" y=\"-458.8\" font-family=\"Helvetica,sans-Serif\" font-size=\"14.00\">class = table</text>\n",
              "</g>\n",
              "<!-- 11&#45;&gt;15 -->\n",
              "<g id=\"edge15\" class=\"edge\">\n",
              "<title>11&#45;&gt;15</title>\n",
              "<path fill=\"none\" stroke=\"black\" d=\"M568.22,-559.77C576.66,-549.27 585.85,-537.83 594.42,-527.17\"/>\n",
              "<polygon fill=\"black\" stroke=\"black\" points=\"597.29,-529.18 600.82,-519.2 591.83,-524.8 597.29,-529.18\"/>\n",
              "</g>\n",
              "<!-- 13 -->\n",
              "<g id=\"node14\" class=\"node\">\n",
              "<title>13</title>\n",
              "<path fill=\"#e58139\" stroke=\"black\" d=\"M507,-405C507,-405 416,-405 416,-405 410,-405 404,-399 404,-393 404,-393 404,-349 404,-349 404,-343 410,-337 416,-337 416,-337 507,-337 507,-337 513,-337 519,-343 519,-349 519,-349 519,-393 519,-393 519,-399 513,-405 507,-405\"/>\n",
              "<text text-anchor=\"start\" x=\"433.5\" y=\"-389.8\" font-family=\"Helvetica,sans-Serif\" font-size=\"14.00\">gini = 0.0</text>\n",
              "<text text-anchor=\"start\" x=\"416.5\" y=\"-374.8\" font-family=\"Helvetica,sans-Serif\" font-size=\"14.00\">samples = 367</text>\n",
              "<text text-anchor=\"start\" x=\"414.5\" y=\"-359.8\" font-family=\"Helvetica,sans-Serif\" font-size=\"14.00\">value = [367, 0]</text>\n",
              "<text text-anchor=\"start\" x=\"412\" y=\"-344.8\" font-family=\"Helvetica,sans-Serif\" font-size=\"14.00\">class = nontable</text>\n",
              "</g>\n",
              "<!-- 12&#45;&gt;13 -->\n",
              "<g id=\"edge13\" class=\"edge\">\n",
              "<title>12&#45;&gt;13</title>\n",
              "<path fill=\"none\" stroke=\"black\" d=\"M489.82,-445.77C485.99,-435.78 481.83,-424.95 477.91,-414.74\"/>\n",
              "<polygon fill=\"black\" stroke=\"black\" points=\"481.1,-413.28 474.25,-405.2 474.56,-415.79 481.1,-413.28\"/>\n",
              "</g>\n",
              "<!-- 14 -->\n",
              "<g id=\"node15\" class=\"node\">\n",
              "<title>14</title>\n",
              "<path fill=\"#399de5\" stroke=\"black\" d=\"M620,-405C620,-405 549,-405 549,-405 543,-405 537,-399 537,-393 537,-393 537,-349 537,-349 537,-343 543,-337 549,-337 549,-337 620,-337 620,-337 626,-337 632,-343 632,-349 632,-349 632,-393 632,-393 632,-399 626,-405 620,-405\"/>\n",
              "<text text-anchor=\"start\" x=\"556.5\" y=\"-389.8\" font-family=\"Helvetica,sans-Serif\" font-size=\"14.00\">gini = 0.0</text>\n",
              "<text text-anchor=\"start\" x=\"547\" y=\"-374.8\" font-family=\"Helvetica,sans-Serif\" font-size=\"14.00\">samples = 2</text>\n",
              "<text text-anchor=\"start\" x=\"545\" y=\"-359.8\" font-family=\"Helvetica,sans-Serif\" font-size=\"14.00\">value = [0, 2]</text>\n",
              "<text text-anchor=\"start\" x=\"546.5\" y=\"-344.8\" font-family=\"Helvetica,sans-Serif\" font-size=\"14.00\">class = table</text>\n",
              "</g>\n",
              "<!-- 12&#45;&gt;14 -->\n",
              "<g id=\"edge14\" class=\"edge\">\n",
              "<title>12&#45;&gt;14</title>\n",
              "<path fill=\"none\" stroke=\"black\" d=\"M531.81,-445.77C539.24,-435.37 547.32,-424.06 554.87,-413.48\"/>\n",
              "<polygon fill=\"black\" stroke=\"black\" points=\"557.82,-415.37 560.79,-405.2 552.13,-411.3 557.82,-415.37\"/>\n",
              "</g>\n",
              "<!-- 17 -->\n",
              "<g id=\"node18\" class=\"node\">\n",
              "<title>17</title>\n",
              "<path fill=\"#e5823a\" stroke=\"black\" d=\"M765,-752C765,-752 674,-752 674,-752 668,-752 662,-746 662,-740 662,-740 662,-686 662,-686 662,-680 668,-674 674,-674 674,-674 765,-674 765,-674 771,-674 777,-680 777,-686 777,-686 777,-740 777,-740 777,-746 771,-752 765,-752\"/>\n",
              "<text text-anchor=\"start\" x=\"679.5\" y=\"-737.8\" font-family=\"Helvetica,sans-Serif\" font-size=\"14.00\">X</text>\n",
              "<text text-anchor=\"start\" x=\"689.5\" y=\"-737.8\" font-family=\"Helvetica,sans-Serif\" baseline-shift=\"sub\" font-size=\"14.00\">951</text>\n",
              "<text text-anchor=\"start\" x=\"710.5\" y=\"-737.8\" font-family=\"Helvetica,sans-Serif\" font-size=\"14.00\"> ≤ 0.053</text>\n",
              "<text text-anchor=\"start\" x=\"684\" y=\"-723.8\" font-family=\"Helvetica,sans-Serif\" font-size=\"14.00\">gini = 0.011</text>\n",
              "<text text-anchor=\"start\" x=\"674.5\" y=\"-709.8\" font-family=\"Helvetica,sans-Serif\" font-size=\"14.00\">samples = 180</text>\n",
              "<text text-anchor=\"start\" x=\"672.5\" y=\"-695.8\" font-family=\"Helvetica,sans-Serif\" font-size=\"14.00\">value = [179, 1]</text>\n",
              "<text text-anchor=\"start\" x=\"670\" y=\"-681.8\" font-family=\"Helvetica,sans-Serif\" font-size=\"14.00\">class = nontable</text>\n",
              "</g>\n",
              "<!-- 16&#45;&gt;17 -->\n",
              "<g id=\"edge17\" class=\"edge\">\n",
              "<title>16&#45;&gt;17</title>\n",
              "<path fill=\"none\" stroke=\"black\" d=\"M719.5,-787.77C719.5,-779.57 719.5,-770.8 719.5,-762.28\"/>\n",
              "<polygon fill=\"black\" stroke=\"black\" points=\"723,-762.06 719.5,-752.06 716,-762.06 723,-762.06\"/>\n",
              "</g>\n",
              "<!-- 20 -->\n",
              "<g id=\"node21\" class=\"node\">\n",
              "<title>20</title>\n",
              "<path fill=\"#3a9ee5\" stroke=\"black\" d=\"M967,-752C967,-752 866,-752 866,-752 860,-752 854,-746 854,-740 854,-740 854,-686 854,-686 854,-680 860,-674 866,-674 866,-674 967,-674 967,-674 973,-674 979,-680 979,-686 979,-686 979,-740 979,-740 979,-746 973,-752 967,-752\"/>\n",
              "<text text-anchor=\"start\" x=\"884\" y=\"-737.8\" font-family=\"Helvetica,sans-Serif\" font-size=\"14.00\">X</text>\n",
              "<text text-anchor=\"start\" x=\"894\" y=\"-737.8\" font-family=\"Helvetica,sans-Serif\" baseline-shift=\"sub\" font-size=\"14.00\">993</text>\n",
              "<text text-anchor=\"start\" x=\"915\" y=\"-737.8\" font-family=\"Helvetica,sans-Serif\" font-size=\"14.00\"> ≤ 0.0</text>\n",
              "<text text-anchor=\"start\" x=\"881\" y=\"-723.8\" font-family=\"Helvetica,sans-Serif\" font-size=\"14.00\">gini = 0.013</text>\n",
              "<text text-anchor=\"start\" x=\"868\" y=\"-709.8\" font-family=\"Helvetica,sans-Serif\" font-size=\"14.00\">samples = 5774</text>\n",
              "<text text-anchor=\"start\" x=\"862\" y=\"-695.8\" font-family=\"Helvetica,sans-Serif\" font-size=\"14.00\">value = [39, 5735]</text>\n",
              "<text text-anchor=\"start\" x=\"878.5\" y=\"-681.8\" font-family=\"Helvetica,sans-Serif\" font-size=\"14.00\">class = table</text>\n",
              "</g>\n",
              "<!-- 16&#45;&gt;20 -->\n",
              "<g id=\"edge20\" class=\"edge\">\n",
              "<title>16&#45;&gt;20</title>\n",
              "<path fill=\"none\" stroke=\"black\" d=\"M785.65,-788.39C804.74,-777.54 825.66,-765.64 845.06,-754.61\"/>\n",
              "<polygon fill=\"black\" stroke=\"black\" points=\"846.9,-757.6 853.86,-749.61 843.44,-751.51 846.9,-757.6\"/>\n",
              "</g>\n",
              "<!-- 18 -->\n",
              "<g id=\"node19\" class=\"node\">\n",
              "<title>18</title>\n",
              "<path fill=\"#399de5\" stroke=\"black\" d=\"M696,-633C696,-633 625,-633 625,-633 619,-633 613,-627 613,-621 613,-621 613,-577 613,-577 613,-571 619,-565 625,-565 625,-565 696,-565 696,-565 702,-565 708,-571 708,-577 708,-577 708,-621 708,-621 708,-627 702,-633 696,-633\"/>\n",
              "<text text-anchor=\"start\" x=\"632.5\" y=\"-617.8\" font-family=\"Helvetica,sans-Serif\" font-size=\"14.00\">gini = 0.0</text>\n",
              "<text text-anchor=\"start\" x=\"623\" y=\"-602.8\" font-family=\"Helvetica,sans-Serif\" font-size=\"14.00\">samples = 1</text>\n",
              "<text text-anchor=\"start\" x=\"621\" y=\"-587.8\" font-family=\"Helvetica,sans-Serif\" font-size=\"14.00\">value = [0, 1]</text>\n",
              "<text text-anchor=\"start\" x=\"622.5\" y=\"-572.8\" font-family=\"Helvetica,sans-Serif\" font-size=\"14.00\">class = table</text>\n",
              "</g>\n",
              "<!-- 17&#45;&gt;18 -->\n",
              "<g id=\"edge18\" class=\"edge\">\n",
              "<title>17&#45;&gt;18</title>\n",
              "<path fill=\"none\" stroke=\"black\" d=\"M699.36,-673.77C693.99,-663.57 688.16,-652.5 682.68,-642.11\"/>\n",
              "<polygon fill=\"black\" stroke=\"black\" points=\"685.74,-640.41 677.99,-633.2 679.55,-643.68 685.74,-640.41\"/>\n",
              "</g>\n",
              "<!-- 19 -->\n",
              "<g id=\"node20\" class=\"node\">\n",
              "<title>19</title>\n",
              "<path fill=\"#e58139\" stroke=\"black\" d=\"M829,-633C829,-633 738,-633 738,-633 732,-633 726,-627 726,-621 726,-621 726,-577 726,-577 726,-571 732,-565 738,-565 738,-565 829,-565 829,-565 835,-565 841,-571 841,-577 841,-577 841,-621 841,-621 841,-627 835,-633 829,-633\"/>\n",
              "<text text-anchor=\"start\" x=\"755.5\" y=\"-617.8\" font-family=\"Helvetica,sans-Serif\" font-size=\"14.00\">gini = 0.0</text>\n",
              "<text text-anchor=\"start\" x=\"738.5\" y=\"-602.8\" font-family=\"Helvetica,sans-Serif\" font-size=\"14.00\">samples = 179</text>\n",
              "<text text-anchor=\"start\" x=\"736.5\" y=\"-587.8\" font-family=\"Helvetica,sans-Serif\" font-size=\"14.00\">value = [179, 0]</text>\n",
              "<text text-anchor=\"start\" x=\"734\" y=\"-572.8\" font-family=\"Helvetica,sans-Serif\" font-size=\"14.00\">class = nontable</text>\n",
              "</g>\n",
              "<!-- 17&#45;&gt;19 -->\n",
              "<g id=\"edge19\" class=\"edge\">\n",
              "<title>17&#45;&gt;19</title>\n",
              "<path fill=\"none\" stroke=\"black\" d=\"M741.35,-673.77C747.17,-663.57 753.5,-652.5 759.44,-642.11\"/>\n",
              "<polygon fill=\"black\" stroke=\"black\" points=\"762.61,-643.62 764.53,-633.2 756.53,-640.14 762.61,-643.62\"/>\n",
              "</g>\n",
              "<!-- 21 -->\n",
              "<g id=\"node22\" class=\"node\">\n",
              "<title>21</title>\n",
              "<path fill=\"#e78a47\" stroke=\"black\" d=\"M962,-638C962,-638 871,-638 871,-638 865,-638 859,-632 859,-626 859,-626 859,-572 859,-572 859,-566 865,-560 871,-560 871,-560 962,-560 962,-560 968,-560 974,-566 974,-572 974,-572 974,-626 974,-626 974,-632 968,-638 962,-638\"/>\n",
              "<text text-anchor=\"start\" x=\"876.5\" y=\"-623.8\" font-family=\"Helvetica,sans-Serif\" font-size=\"14.00\">X</text>\n",
              "<text text-anchor=\"start\" x=\"886.5\" y=\"-623.8\" font-family=\"Helvetica,sans-Serif\" baseline-shift=\"sub\" font-size=\"14.00\">981</text>\n",
              "<text text-anchor=\"start\" x=\"907.5\" y=\"-623.8\" font-family=\"Helvetica,sans-Serif\" font-size=\"14.00\"> ≤ 0.054</text>\n",
              "<text text-anchor=\"start\" x=\"881\" y=\"-609.8\" font-family=\"Helvetica,sans-Serif\" font-size=\"14.00\">gini = 0.124</text>\n",
              "<text text-anchor=\"start\" x=\"875.5\" y=\"-595.8\" font-family=\"Helvetica,sans-Serif\" font-size=\"14.00\">samples = 30</text>\n",
              "<text text-anchor=\"start\" x=\"873.5\" y=\"-581.8\" font-family=\"Helvetica,sans-Serif\" font-size=\"14.00\">value = [28, 2]</text>\n",
              "<text text-anchor=\"start\" x=\"867\" y=\"-567.8\" font-family=\"Helvetica,sans-Serif\" font-size=\"14.00\">class = nontable</text>\n",
              "</g>\n",
              "<!-- 20&#45;&gt;21 -->\n",
              "<g id=\"edge21\" class=\"edge\">\n",
              "<title>20&#45;&gt;21</title>\n",
              "<path fill=\"none\" stroke=\"black\" d=\"M916.5,-673.77C916.5,-665.57 916.5,-656.8 916.5,-648.28\"/>\n",
              "<polygon fill=\"black\" stroke=\"black\" points=\"920,-648.06 916.5,-638.06 913,-648.06 920,-648.06\"/>\n",
              "</g>\n",
              "<!-- 24 -->\n",
              "<g id=\"node25\" class=\"node\">\n",
              "<title>24</title>\n",
              "<path fill=\"#399de5\" stroke=\"black\" d=\"M1105,-638C1105,-638 1004,-638 1004,-638 998,-638 992,-632 992,-626 992,-626 992,-572 992,-572 992,-566 998,-560 1004,-560 1004,-560 1105,-560 1105,-560 1111,-560 1117,-566 1117,-572 1117,-572 1117,-626 1117,-626 1117,-632 1111,-638 1105,-638\"/>\n",
              "<text text-anchor=\"start\" x=\"1022\" y=\"-623.8\" font-family=\"Helvetica,sans-Serif\" font-size=\"14.00\">X</text>\n",
              "<text text-anchor=\"start\" x=\"1032\" y=\"-623.8\" font-family=\"Helvetica,sans-Serif\" baseline-shift=\"sub\" font-size=\"14.00\">975</text>\n",
              "<text text-anchor=\"start\" x=\"1053\" y=\"-623.8\" font-family=\"Helvetica,sans-Serif\" font-size=\"14.00\"> ≤ 0.0</text>\n",
              "<text text-anchor=\"start\" x=\"1019\" y=\"-609.8\" font-family=\"Helvetica,sans-Serif\" font-size=\"14.00\">gini = 0.004</text>\n",
              "<text text-anchor=\"start\" x=\"1006\" y=\"-595.8\" font-family=\"Helvetica,sans-Serif\" font-size=\"14.00\">samples = 5744</text>\n",
              "<text text-anchor=\"start\" x=\"1000\" y=\"-581.8\" font-family=\"Helvetica,sans-Serif\" font-size=\"14.00\">value = [11, 5733]</text>\n",
              "<text text-anchor=\"start\" x=\"1016.5\" y=\"-567.8\" font-family=\"Helvetica,sans-Serif\" font-size=\"14.00\">class = table</text>\n",
              "</g>\n",
              "<!-- 20&#45;&gt;24 -->\n",
              "<g id=\"edge24\" class=\"edge\">\n",
              "<title>20&#45;&gt;24</title>\n",
              "<path fill=\"none\" stroke=\"black\" d=\"M963.61,-673.77C975.26,-664.31 987.85,-654.09 999.83,-644.37\"/>\n",
              "<polygon fill=\"black\" stroke=\"black\" points=\"1002.05,-647.08 1007.61,-638.06 997.64,-641.64 1002.05,-647.08\"/>\n",
              "</g>\n",
              "<!-- 22 -->\n",
              "<g id=\"node23\" class=\"node\">\n",
              "<title>22</title>\n",
              "<path fill=\"#399de5\" stroke=\"black\" d=\"M830,-519C830,-519 759,-519 759,-519 753,-519 747,-513 747,-507 747,-507 747,-463 747,-463 747,-457 753,-451 759,-451 759,-451 830,-451 830,-451 836,-451 842,-457 842,-463 842,-463 842,-507 842,-507 842,-513 836,-519 830,-519\"/>\n",
              "<text text-anchor=\"start\" x=\"766.5\" y=\"-503.8\" font-family=\"Helvetica,sans-Serif\" font-size=\"14.00\">gini = 0.0</text>\n",
              "<text text-anchor=\"start\" x=\"757\" y=\"-488.8\" font-family=\"Helvetica,sans-Serif\" font-size=\"14.00\">samples = 2</text>\n",
              "<text text-anchor=\"start\" x=\"755\" y=\"-473.8\" font-family=\"Helvetica,sans-Serif\" font-size=\"14.00\">value = [0, 2]</text>\n",
              "<text text-anchor=\"start\" x=\"756.5\" y=\"-458.8\" font-family=\"Helvetica,sans-Serif\" font-size=\"14.00\">class = table</text>\n",
              "</g>\n",
              "<!-- 21&#45;&gt;22 -->\n",
              "<g id=\"edge22\" class=\"edge\">\n",
              "<title>21&#45;&gt;22</title>\n",
              "<path fill=\"none\" stroke=\"black\" d=\"M874.86,-559.77C863.08,-548.96 850.23,-537.16 838.32,-526.23\"/>\n",
              "<polygon fill=\"black\" stroke=\"black\" points=\"840.39,-523.38 830.66,-519.2 835.66,-528.54 840.39,-523.38\"/>\n",
              "</g>\n",
              "<!-- 23 -->\n",
              "<g id=\"node24\" class=\"node\">\n",
              "<title>23</title>\n",
              "<path fill=\"#e58139\" stroke=\"black\" d=\"M963,-519C963,-519 872,-519 872,-519 866,-519 860,-513 860,-507 860,-507 860,-463 860,-463 860,-457 866,-451 872,-451 872,-451 963,-451 963,-451 969,-451 975,-457 975,-463 975,-463 975,-507 975,-507 975,-513 969,-519 963,-519\"/>\n",
              "<text text-anchor=\"start\" x=\"889.5\" y=\"-503.8\" font-family=\"Helvetica,sans-Serif\" font-size=\"14.00\">gini = 0.0</text>\n",
              "<text text-anchor=\"start\" x=\"876.5\" y=\"-488.8\" font-family=\"Helvetica,sans-Serif\" font-size=\"14.00\">samples = 28</text>\n",
              "<text text-anchor=\"start\" x=\"874.5\" y=\"-473.8\" font-family=\"Helvetica,sans-Serif\" font-size=\"14.00\">value = [28, 0]</text>\n",
              "<text text-anchor=\"start\" x=\"868\" y=\"-458.8\" font-family=\"Helvetica,sans-Serif\" font-size=\"14.00\">class = nontable</text>\n",
              "</g>\n",
              "<!-- 21&#45;&gt;23 -->\n",
              "<g id=\"edge23\" class=\"edge\">\n",
              "<title>21&#45;&gt;23</title>\n",
              "<path fill=\"none\" stroke=\"black\" d=\"M916.84,-559.77C916.93,-549.99 917.02,-539.4 917.11,-529.38\"/>\n",
              "<polygon fill=\"black\" stroke=\"black\" points=\"920.61,-529.23 917.2,-519.2 913.61,-529.16 920.61,-529.23\"/>\n",
              "</g>\n",
              "<!-- 25 -->\n",
              "<g id=\"node26\" class=\"node\">\n",
              "<title>25</title>\n",
              "<path fill=\"#e99355\" stroke=\"black\" d=\"M1098,-524C1098,-524 1007,-524 1007,-524 1001,-524 995,-518 995,-512 995,-512 995,-458 995,-458 995,-452 1001,-446 1007,-446 1007,-446 1098,-446 1098,-446 1104,-446 1110,-452 1110,-458 1110,-458 1110,-512 1110,-512 1110,-518 1104,-524 1098,-524\"/>\n",
              "<text text-anchor=\"start\" x=\"1012.5\" y=\"-509.8\" font-family=\"Helvetica,sans-Serif\" font-size=\"14.00\">X</text>\n",
              "<text text-anchor=\"start\" x=\"1022.5\" y=\"-509.8\" font-family=\"Helvetica,sans-Serif\" baseline-shift=\"sub\" font-size=\"14.00\">760</text>\n",
              "<text text-anchor=\"start\" x=\"1043.5\" y=\"-509.8\" font-family=\"Helvetica,sans-Serif\" font-size=\"14.00\"> ≤ 0.035</text>\n",
              "<text text-anchor=\"start\" x=\"1017\" y=\"-495.8\" font-family=\"Helvetica,sans-Serif\" font-size=\"14.00\">gini = 0.219</text>\n",
              "<text text-anchor=\"start\" x=\"1015\" y=\"-481.8\" font-family=\"Helvetica,sans-Serif\" font-size=\"14.00\">samples = 8</text>\n",
              "<text text-anchor=\"start\" x=\"1013\" y=\"-467.8\" font-family=\"Helvetica,sans-Serif\" font-size=\"14.00\">value = [7, 1]</text>\n",
              "<text text-anchor=\"start\" x=\"1003\" y=\"-453.8\" font-family=\"Helvetica,sans-Serif\" font-size=\"14.00\">class = nontable</text>\n",
              "</g>\n",
              "<!-- 24&#45;&gt;25 -->\n",
              "<g id=\"edge25\" class=\"edge\">\n",
              "<title>24&#45;&gt;25</title>\n",
              "<path fill=\"none\" stroke=\"black\" d=\"M1053.82,-559.77C1053.67,-551.57 1053.51,-542.8 1053.36,-534.28\"/>\n",
              "<polygon fill=\"black\" stroke=\"black\" points=\"1056.86,-533.99 1053.18,-524.06 1049.86,-534.12 1056.86,-533.99\"/>\n",
              "</g>\n",
              "<!-- 28 -->\n",
              "<g id=\"node29\" class=\"node\">\n",
              "<title>28</title>\n",
              "<path fill=\"#399de5\" stroke=\"black\" d=\"M1233,-524C1233,-524 1140,-524 1140,-524 1134,-524 1128,-518 1128,-512 1128,-512 1128,-458 1128,-458 1128,-452 1134,-446 1140,-446 1140,-446 1233,-446 1233,-446 1239,-446 1245,-452 1245,-458 1245,-458 1245,-512 1245,-512 1245,-518 1239,-524 1233,-524\"/>\n",
              "<text text-anchor=\"start\" x=\"1146.5\" y=\"-509.8\" font-family=\"Helvetica,sans-Serif\" font-size=\"14.00\">X</text>\n",
              "<text text-anchor=\"start\" x=\"1156.5\" y=\"-509.8\" font-family=\"Helvetica,sans-Serif\" baseline-shift=\"sub\" font-size=\"14.00\">894</text>\n",
              "<text text-anchor=\"start\" x=\"1177.5\" y=\"-509.8\" font-family=\"Helvetica,sans-Serif\" font-size=\"14.00\"> ≤ 0.587</text>\n",
              "<text text-anchor=\"start\" x=\"1151\" y=\"-495.8\" font-family=\"Helvetica,sans-Serif\" font-size=\"14.00\">gini = 0.001</text>\n",
              "<text text-anchor=\"start\" x=\"1138\" y=\"-481.8\" font-family=\"Helvetica,sans-Serif\" font-size=\"14.00\">samples = 5736</text>\n",
              "<text text-anchor=\"start\" x=\"1136\" y=\"-467.8\" font-family=\"Helvetica,sans-Serif\" font-size=\"14.00\">value = [4, 5732]</text>\n",
              "<text text-anchor=\"start\" x=\"1148.5\" y=\"-453.8\" font-family=\"Helvetica,sans-Serif\" font-size=\"14.00\">class = table</text>\n",
              "</g>\n",
              "<!-- 24&#45;&gt;28 -->\n",
              "<g id=\"edge28\" class=\"edge\">\n",
              "<title>24&#45;&gt;28</title>\n",
              "<path fill=\"none\" stroke=\"black\" d=\"M1099.56,-559.77C1110.6,-550.4 1122.52,-540.29 1133.88,-530.64\"/>\n",
              "<polygon fill=\"black\" stroke=\"black\" points=\"1136.28,-533.2 1141.65,-524.06 1131.76,-527.86 1136.28,-533.2\"/>\n",
              "</g>\n",
              "<!-- 26 -->\n",
              "<g id=\"node27\" class=\"node\">\n",
              "<title>26</title>\n",
              "<path fill=\"#e58139\" stroke=\"black\" d=\"M977,-405C977,-405 886,-405 886,-405 880,-405 874,-399 874,-393 874,-393 874,-349 874,-349 874,-343 880,-337 886,-337 886,-337 977,-337 977,-337 983,-337 989,-343 989,-349 989,-349 989,-393 989,-393 989,-399 983,-405 977,-405\"/>\n",
              "<text text-anchor=\"start\" x=\"903.5\" y=\"-389.8\" font-family=\"Helvetica,sans-Serif\" font-size=\"14.00\">gini = 0.0</text>\n",
              "<text text-anchor=\"start\" x=\"894\" y=\"-374.8\" font-family=\"Helvetica,sans-Serif\" font-size=\"14.00\">samples = 7</text>\n",
              "<text text-anchor=\"start\" x=\"892\" y=\"-359.8\" font-family=\"Helvetica,sans-Serif\" font-size=\"14.00\">value = [7, 0]</text>\n",
              "<text text-anchor=\"start\" x=\"882\" y=\"-344.8\" font-family=\"Helvetica,sans-Serif\" font-size=\"14.00\">class = nontable</text>\n",
              "</g>\n",
              "<!-- 25&#45;&gt;26 -->\n",
              "<g id=\"edge26\" class=\"edge\">\n",
              "<title>25&#45;&gt;26</title>\n",
              "<path fill=\"none\" stroke=\"black\" d=\"M1011.2,-445.77C999.52,-434.96 986.77,-423.16 974.96,-412.23\"/>\n",
              "<polygon fill=\"black\" stroke=\"black\" points=\"977.08,-409.42 967.36,-405.2 972.33,-414.56 977.08,-409.42\"/>\n",
              "</g>\n",
              "<!-- 27 -->\n",
              "<g id=\"node28\" class=\"node\">\n",
              "<title>27</title>\n",
              "<path fill=\"#399de5\" stroke=\"black\" d=\"M1090,-405C1090,-405 1019,-405 1019,-405 1013,-405 1007,-399 1007,-393 1007,-393 1007,-349 1007,-349 1007,-343 1013,-337 1019,-337 1019,-337 1090,-337 1090,-337 1096,-337 1102,-343 1102,-349 1102,-349 1102,-393 1102,-393 1102,-399 1096,-405 1090,-405\"/>\n",
              "<text text-anchor=\"start\" x=\"1026.5\" y=\"-389.8\" font-family=\"Helvetica,sans-Serif\" font-size=\"14.00\">gini = 0.0</text>\n",
              "<text text-anchor=\"start\" x=\"1017\" y=\"-374.8\" font-family=\"Helvetica,sans-Serif\" font-size=\"14.00\">samples = 1</text>\n",
              "<text text-anchor=\"start\" x=\"1015\" y=\"-359.8\" font-family=\"Helvetica,sans-Serif\" font-size=\"14.00\">value = [0, 1]</text>\n",
              "<text text-anchor=\"start\" x=\"1016.5\" y=\"-344.8\" font-family=\"Helvetica,sans-Serif\" font-size=\"14.00\">class = table</text>\n",
              "</g>\n",
              "<!-- 25&#45;&gt;27 -->\n",
              "<g id=\"edge27\" class=\"edge\">\n",
              "<title>25&#45;&gt;27</title>\n",
              "<path fill=\"none\" stroke=\"black\" d=\"M1053.18,-445.77C1053.36,-435.99 1053.55,-425.4 1053.73,-415.38\"/>\n",
              "<polygon fill=\"black\" stroke=\"black\" points=\"1057.23,-415.26 1053.91,-405.2 1050.23,-415.13 1057.23,-415.26\"/>\n",
              "</g>\n",
              "<!-- 29 -->\n",
              "<g id=\"node30\" class=\"node\">\n",
              "<title>29</title>\n",
              "<path fill=\"#399de5\" stroke=\"black\" d=\"M1230,-410C1230,-410 1137,-410 1137,-410 1131,-410 1125,-404 1125,-398 1125,-398 1125,-344 1125,-344 1125,-338 1131,-332 1137,-332 1137,-332 1230,-332 1230,-332 1236,-332 1242,-338 1242,-344 1242,-344 1242,-398 1242,-398 1242,-404 1236,-410 1230,-410\"/>\n",
              "<text text-anchor=\"start\" x=\"1143.5\" y=\"-395.8\" font-family=\"Helvetica,sans-Serif\" font-size=\"14.00\">X</text>\n",
              "<text text-anchor=\"start\" x=\"1153.5\" y=\"-395.8\" font-family=\"Helvetica,sans-Serif\" baseline-shift=\"sub\" font-size=\"14.00\">778</text>\n",
              "<text text-anchor=\"start\" x=\"1174.5\" y=\"-395.8\" font-family=\"Helvetica,sans-Serif\" font-size=\"14.00\"> ≤ 0.621</text>\n",
              "<text text-anchor=\"start\" x=\"1148\" y=\"-381.8\" font-family=\"Helvetica,sans-Serif\" font-size=\"14.00\">gini = 0.001</text>\n",
              "<text text-anchor=\"start\" x=\"1135\" y=\"-367.8\" font-family=\"Helvetica,sans-Serif\" font-size=\"14.00\">samples = 5734</text>\n",
              "<text text-anchor=\"start\" x=\"1133\" y=\"-353.8\" font-family=\"Helvetica,sans-Serif\" font-size=\"14.00\">value = [2, 5732]</text>\n",
              "<text text-anchor=\"start\" x=\"1145.5\" y=\"-339.8\" font-family=\"Helvetica,sans-Serif\" font-size=\"14.00\">class = table</text>\n",
              "</g>\n",
              "<!-- 28&#45;&gt;29 -->\n",
              "<g id=\"edge29\" class=\"edge\">\n",
              "<title>28&#45;&gt;29</title>\n",
              "<path fill=\"none\" stroke=\"black\" d=\"M1185.48,-445.77C1185.26,-437.57 1185.02,-428.8 1184.79,-420.28\"/>\n",
              "<polygon fill=\"black\" stroke=\"black\" points=\"1188.29,-419.96 1184.52,-410.06 1181.29,-420.15 1188.29,-419.96\"/>\n",
              "</g>\n",
              "<!-- 38 -->\n",
              "<g id=\"node39\" class=\"node\">\n",
              "<title>38</title>\n",
              "<path fill=\"#e58139\" stroke=\"black\" d=\"M1363,-405C1363,-405 1272,-405 1272,-405 1266,-405 1260,-399 1260,-393 1260,-393 1260,-349 1260,-349 1260,-343 1266,-337 1272,-337 1272,-337 1363,-337 1363,-337 1369,-337 1375,-343 1375,-349 1375,-349 1375,-393 1375,-393 1375,-399 1369,-405 1363,-405\"/>\n",
              "<text text-anchor=\"start\" x=\"1289.5\" y=\"-389.8\" font-family=\"Helvetica,sans-Serif\" font-size=\"14.00\">gini = 0.0</text>\n",
              "<text text-anchor=\"start\" x=\"1280\" y=\"-374.8\" font-family=\"Helvetica,sans-Serif\" font-size=\"14.00\">samples = 2</text>\n",
              "<text text-anchor=\"start\" x=\"1278\" y=\"-359.8\" font-family=\"Helvetica,sans-Serif\" font-size=\"14.00\">value = [2, 0]</text>\n",
              "<text text-anchor=\"start\" x=\"1268\" y=\"-344.8\" font-family=\"Helvetica,sans-Serif\" font-size=\"14.00\">class = nontable</text>\n",
              "</g>\n",
              "<!-- 28&#45;&gt;38 -->\n",
              "<g id=\"edge38\" class=\"edge\">\n",
              "<title>28&#45;&gt;38</title>\n",
              "<path fill=\"none\" stroke=\"black\" d=\"M1231.22,-445.77C1243.98,-434.85 1257.93,-422.93 1270.81,-411.92\"/>\n",
              "<polygon fill=\"black\" stroke=\"black\" points=\"1273.35,-414.36 1278.67,-405.2 1268.8,-409.03 1273.35,-414.36\"/>\n",
              "</g>\n",
              "<!-- 30 -->\n",
              "<g id=\"node31\" class=\"node\">\n",
              "<title>30</title>\n",
              "<path fill=\"#399de5\" stroke=\"black\" d=\"M1163,-296C1163,-296 1070,-296 1070,-296 1064,-296 1058,-290 1058,-284 1058,-284 1058,-230 1058,-230 1058,-224 1064,-218 1070,-218 1070,-218 1163,-218 1163,-218 1169,-218 1175,-224 1175,-230 1175,-230 1175,-284 1175,-284 1175,-290 1169,-296 1163,-296\"/>\n",
              "<text text-anchor=\"start\" x=\"1073\" y=\"-281.8\" font-family=\"Helvetica,sans-Serif\" font-size=\"14.00\">X</text>\n",
              "<text text-anchor=\"start\" x=\"1083\" y=\"-281.8\" font-family=\"Helvetica,sans-Serif\" baseline-shift=\"sub\" font-size=\"14.00\">1002</text>\n",
              "<text text-anchor=\"start\" x=\"1111\" y=\"-281.8\" font-family=\"Helvetica,sans-Serif\" font-size=\"14.00\"> ≤ 0.007</text>\n",
              "<text text-anchor=\"start\" x=\"1088.5\" y=\"-267.8\" font-family=\"Helvetica,sans-Serif\" font-size=\"14.00\">gini = 0.0</text>\n",
              "<text text-anchor=\"start\" x=\"1068\" y=\"-253.8\" font-family=\"Helvetica,sans-Serif\" font-size=\"14.00\">samples = 5724</text>\n",
              "<text text-anchor=\"start\" x=\"1066\" y=\"-239.8\" font-family=\"Helvetica,sans-Serif\" font-size=\"14.00\">value = [1, 5723]</text>\n",
              "<text text-anchor=\"start\" x=\"1078.5\" y=\"-225.8\" font-family=\"Helvetica,sans-Serif\" font-size=\"14.00\">class = table</text>\n",
              "</g>\n",
              "<!-- 29&#45;&gt;30 -->\n",
              "<g id=\"edge30\" class=\"edge\">\n",
              "<title>29&#45;&gt;30</title>\n",
              "<path fill=\"none\" stroke=\"black\" d=\"M1160.63,-331.77C1155.46,-323.12 1149.9,-313.84 1144.54,-304.88\"/>\n",
              "<polygon fill=\"black\" stroke=\"black\" points=\"1147.4,-302.84 1139.27,-296.06 1141.4,-306.44 1147.4,-302.84\"/>\n",
              "</g>\n",
              "<!-- 35 -->\n",
              "<g id=\"node36\" class=\"node\">\n",
              "<title>35</title>\n",
              "<path fill=\"#4fa8e8\" stroke=\"black\" d=\"M1287.5,-296C1287.5,-296 1213.5,-296 1213.5,-296 1207.5,-296 1201.5,-290 1201.5,-284 1201.5,-284 1201.5,-230 1201.5,-230 1201.5,-224 1207.5,-218 1213.5,-218 1213.5,-218 1287.5,-218 1287.5,-218 1293.5,-218 1299.5,-224 1299.5,-230 1299.5,-230 1299.5,-284 1299.5,-284 1299.5,-290 1293.5,-296 1287.5,-296\"/>\n",
              "<text text-anchor=\"start\" x=\"1210.5\" y=\"-281.8\" font-family=\"Helvetica,sans-Serif\" font-size=\"14.00\">X</text>\n",
              "<text text-anchor=\"start\" x=\"1220.5\" y=\"-281.8\" font-family=\"Helvetica,sans-Serif\" baseline-shift=\"sub\" font-size=\"14.00\">913</text>\n",
              "<text text-anchor=\"start\" x=\"1241.5\" y=\"-281.8\" font-family=\"Helvetica,sans-Serif\" font-size=\"14.00\"> ≤ 0.007</text>\n",
              "<text text-anchor=\"start\" x=\"1218.5\" y=\"-267.8\" font-family=\"Helvetica,sans-Serif\" font-size=\"14.00\">gini = 0.18</text>\n",
              "<text text-anchor=\"start\" x=\"1209.5\" y=\"-253.8\" font-family=\"Helvetica,sans-Serif\" font-size=\"14.00\">samples = 10</text>\n",
              "<text text-anchor=\"start\" x=\"1211\" y=\"-239.8\" font-family=\"Helvetica,sans-Serif\" font-size=\"14.00\">value = [1, 9]</text>\n",
              "<text text-anchor=\"start\" x=\"1212.5\" y=\"-225.8\" font-family=\"Helvetica,sans-Serif\" font-size=\"14.00\">class = table</text>\n",
              "</g>\n",
              "<!-- 29&#45;&gt;35 -->\n",
              "<g id=\"edge35\" class=\"edge\">\n",
              "<title>29&#45;&gt;35</title>\n",
              "<path fill=\"none\" stroke=\"black\" d=\"M1206.37,-331.77C1211.54,-323.12 1217.1,-313.84 1222.46,-304.88\"/>\n",
              "<polygon fill=\"black\" stroke=\"black\" points=\"1225.6,-306.44 1227.73,-296.06 1219.6,-302.84 1225.6,-306.44\"/>\n",
              "</g>\n",
              "<!-- 31 -->\n",
              "<g id=\"node32\" class=\"node\">\n",
              "<title>31</title>\n",
              "<path fill=\"#45a3e7\" stroke=\"black\" d=\"M1027.5,-182C1027.5,-182 949.5,-182 949.5,-182 943.5,-182 937.5,-176 937.5,-170 937.5,-170 937.5,-116 937.5,-116 937.5,-110 943.5,-104 949.5,-104 949.5,-104 1027.5,-104 1027.5,-104 1033.5,-104 1039.5,-110 1039.5,-116 1039.5,-116 1039.5,-170 1039.5,-170 1039.5,-176 1033.5,-182 1027.5,-182\"/>\n",
              "<text text-anchor=\"start\" x=\"949.5\" y=\"-167.8\" font-family=\"Helvetica,sans-Serif\" font-size=\"14.00\">X</text>\n",
              "<text text-anchor=\"start\" x=\"959.5\" y=\"-167.8\" font-family=\"Helvetica,sans-Serif\" baseline-shift=\"sub\" font-size=\"14.00\">911</text>\n",
              "<text text-anchor=\"start\" x=\"978.5\" y=\"-167.8\" font-family=\"Helvetica,sans-Serif\" font-size=\"14.00\"> ≤ 0.109</text>\n",
              "<text text-anchor=\"start\" x=\"953.5\" y=\"-153.8\" font-family=\"Helvetica,sans-Serif\" font-size=\"14.00\">gini = 0.111</text>\n",
              "<text text-anchor=\"start\" x=\"947.5\" y=\"-139.8\" font-family=\"Helvetica,sans-Serif\" font-size=\"14.00\">samples = 17</text>\n",
              "<text text-anchor=\"start\" x=\"945.5\" y=\"-125.8\" font-family=\"Helvetica,sans-Serif\" font-size=\"14.00\">value = [1, 16]</text>\n",
              "<text text-anchor=\"start\" x=\"950.5\" y=\"-111.8\" font-family=\"Helvetica,sans-Serif\" font-size=\"14.00\">class = table</text>\n",
              "</g>\n",
              "<!-- 30&#45;&gt;31 -->\n",
              "<g id=\"edge31\" class=\"edge\">\n",
              "<title>30&#45;&gt;31</title>\n",
              "<path fill=\"none\" stroke=\"black\" d=\"M1072.81,-217.77C1062.1,-208.4 1050.54,-198.29 1039.52,-188.64\"/>\n",
              "<polygon fill=\"black\" stroke=\"black\" points=\"1041.83,-186.01 1032,-182.06 1037.22,-191.28 1041.83,-186.01\"/>\n",
              "</g>\n",
              "<!-- 34 -->\n",
              "<g id=\"node35\" class=\"node\">\n",
              "<title>34</title>\n",
              "<path fill=\"#399de5\" stroke=\"black\" d=\"M1163,-177C1163,-177 1070,-177 1070,-177 1064,-177 1058,-171 1058,-165 1058,-165 1058,-121 1058,-121 1058,-115 1064,-109 1070,-109 1070,-109 1163,-109 1163,-109 1169,-109 1175,-115 1175,-121 1175,-121 1175,-165 1175,-165 1175,-171 1169,-177 1163,-177\"/>\n",
              "<text text-anchor=\"start\" x=\"1088.5\" y=\"-161.8\" font-family=\"Helvetica,sans-Serif\" font-size=\"14.00\">gini = 0.0</text>\n",
              "<text text-anchor=\"start\" x=\"1068\" y=\"-146.8\" font-family=\"Helvetica,sans-Serif\" font-size=\"14.00\">samples = 5707</text>\n",
              "<text text-anchor=\"start\" x=\"1066\" y=\"-131.8\" font-family=\"Helvetica,sans-Serif\" font-size=\"14.00\">value = [0, 5707]</text>\n",
              "<text text-anchor=\"start\" x=\"1078.5\" y=\"-116.8\" font-family=\"Helvetica,sans-Serif\" font-size=\"14.00\">class = table</text>\n",
              "</g>\n",
              "<!-- 30&#45;&gt;34 -->\n",
              "<g id=\"edge34\" class=\"edge\">\n",
              "<title>30&#45;&gt;34</title>\n",
              "<path fill=\"none\" stroke=\"black\" d=\"M1116.5,-217.77C1116.5,-207.99 1116.5,-197.4 1116.5,-187.38\"/>\n",
              "<polygon fill=\"black\" stroke=\"black\" points=\"1120,-187.2 1116.5,-177.2 1113,-187.2 1120,-187.2\"/>\n",
              "</g>\n",
              "<!-- 32 -->\n",
              "<g id=\"node33\" class=\"node\">\n",
              "<title>32</title>\n",
              "<path fill=\"#399de5\" stroke=\"black\" d=\"M964.5,-68C964.5,-68 886.5,-68 886.5,-68 880.5,-68 874.5,-62 874.5,-56 874.5,-56 874.5,-12 874.5,-12 874.5,-6 880.5,0 886.5,0 886.5,0 964.5,0 964.5,0 970.5,0 976.5,-6 976.5,-12 976.5,-12 976.5,-56 976.5,-56 976.5,-62 970.5,-68 964.5,-68\"/>\n",
              "<text text-anchor=\"start\" x=\"897.5\" y=\"-52.8\" font-family=\"Helvetica,sans-Serif\" font-size=\"14.00\">gini = 0.0</text>\n",
              "<text text-anchor=\"start\" x=\"884.5\" y=\"-37.8\" font-family=\"Helvetica,sans-Serif\" font-size=\"14.00\">samples = 16</text>\n",
              "<text text-anchor=\"start\" x=\"882.5\" y=\"-22.8\" font-family=\"Helvetica,sans-Serif\" font-size=\"14.00\">value = [0, 16]</text>\n",
              "<text text-anchor=\"start\" x=\"887.5\" y=\"-7.8\" font-family=\"Helvetica,sans-Serif\" font-size=\"14.00\">class = table</text>\n",
              "</g>\n",
              "<!-- 31&#45;&gt;32 -->\n",
              "<g id=\"edge32\" class=\"edge\">\n",
              "<title>31&#45;&gt;32</title>\n",
              "<path fill=\"none\" stroke=\"black\" d=\"M966.11,-103.97C960.97,-95.23 955.46,-85.89 950.23,-76.99\"/>\n",
              "<polygon fill=\"black\" stroke=\"black\" points=\"953.19,-75.13 945.1,-68.28 947.16,-78.68 953.19,-75.13\"/>\n",
              "</g>\n",
              "<!-- 33 -->\n",
              "<g id=\"node34\" class=\"node\">\n",
              "<title>33</title>\n",
              "<path fill=\"#e58139\" stroke=\"black\" d=\"M1098,-68C1098,-68 1007,-68 1007,-68 1001,-68 995,-62 995,-56 995,-56 995,-12 995,-12 995,-6 1001,0 1007,0 1007,0 1098,0 1098,0 1104,0 1110,-6 1110,-12 1110,-12 1110,-56 1110,-56 1110,-62 1104,-68 1098,-68\"/>\n",
              "<text text-anchor=\"start\" x=\"1024.5\" y=\"-52.8\" font-family=\"Helvetica,sans-Serif\" font-size=\"14.00\">gini = 0.0</text>\n",
              "<text text-anchor=\"start\" x=\"1015\" y=\"-37.8\" font-family=\"Helvetica,sans-Serif\" font-size=\"14.00\">samples = 1</text>\n",
              "<text text-anchor=\"start\" x=\"1013\" y=\"-22.8\" font-family=\"Helvetica,sans-Serif\" font-size=\"14.00\">value = [1, 0]</text>\n",
              "<text text-anchor=\"start\" x=\"1003\" y=\"-7.8\" font-family=\"Helvetica,sans-Serif\" font-size=\"14.00\">class = nontable</text>\n",
              "</g>\n",
              "<!-- 31&#45;&gt;33 -->\n",
              "<g id=\"edge33\" class=\"edge\">\n",
              "<title>31&#45;&gt;33</title>\n",
              "<path fill=\"none\" stroke=\"black\" d=\"M1011.24,-103.97C1016.47,-95.23 1022.06,-85.89 1027.38,-76.99\"/>\n",
              "<polygon fill=\"black\" stroke=\"black\" points=\"1030.46,-78.66 1032.59,-68.28 1024.45,-75.07 1030.46,-78.66\"/>\n",
              "</g>\n",
              "<!-- 36 -->\n",
              "<g id=\"node37\" class=\"node\">\n",
              "<title>36</title>\n",
              "<path fill=\"#e58139\" stroke=\"black\" d=\"M1296,-177C1296,-177 1205,-177 1205,-177 1199,-177 1193,-171 1193,-165 1193,-165 1193,-121 1193,-121 1193,-115 1199,-109 1205,-109 1205,-109 1296,-109 1296,-109 1302,-109 1308,-115 1308,-121 1308,-121 1308,-165 1308,-165 1308,-171 1302,-177 1296,-177\"/>\n",
              "<text text-anchor=\"start\" x=\"1222.5\" y=\"-161.8\" font-family=\"Helvetica,sans-Serif\" font-size=\"14.00\">gini = 0.0</text>\n",
              "<text text-anchor=\"start\" x=\"1213\" y=\"-146.8\" font-family=\"Helvetica,sans-Serif\" font-size=\"14.00\">samples = 1</text>\n",
              "<text text-anchor=\"start\" x=\"1211\" y=\"-131.8\" font-family=\"Helvetica,sans-Serif\" font-size=\"14.00\">value = [1, 0]</text>\n",
              "<text text-anchor=\"start\" x=\"1201\" y=\"-116.8\" font-family=\"Helvetica,sans-Serif\" font-size=\"14.00\">class = nontable</text>\n",
              "</g>\n",
              "<!-- 35&#45;&gt;36 -->\n",
              "<g id=\"edge36\" class=\"edge\">\n",
              "<title>35&#45;&gt;36</title>\n",
              "<path fill=\"none\" stroke=\"black\" d=\"M1250.5,-217.77C1250.5,-207.99 1250.5,-197.4 1250.5,-187.38\"/>\n",
              "<polygon fill=\"black\" stroke=\"black\" points=\"1254,-187.2 1250.5,-177.2 1247,-187.2 1254,-187.2\"/>\n",
              "</g>\n",
              "<!-- 37 -->\n",
              "<g id=\"node38\" class=\"node\">\n",
              "<title>37</title>\n",
              "<path fill=\"#399de5\" stroke=\"black\" d=\"M1409,-177C1409,-177 1338,-177 1338,-177 1332,-177 1326,-171 1326,-165 1326,-165 1326,-121 1326,-121 1326,-115 1332,-109 1338,-109 1338,-109 1409,-109 1409,-109 1415,-109 1421,-115 1421,-121 1421,-121 1421,-165 1421,-165 1421,-171 1415,-177 1409,-177\"/>\n",
              "<text text-anchor=\"start\" x=\"1345.5\" y=\"-161.8\" font-family=\"Helvetica,sans-Serif\" font-size=\"14.00\">gini = 0.0</text>\n",
              "<text text-anchor=\"start\" x=\"1336\" y=\"-146.8\" font-family=\"Helvetica,sans-Serif\" font-size=\"14.00\">samples = 9</text>\n",
              "<text text-anchor=\"start\" x=\"1334\" y=\"-131.8\" font-family=\"Helvetica,sans-Serif\" font-size=\"14.00\">value = [0, 9]</text>\n",
              "<text text-anchor=\"start\" x=\"1335.5\" y=\"-116.8\" font-family=\"Helvetica,sans-Serif\" font-size=\"14.00\">class = table</text>\n",
              "</g>\n",
              "<!-- 35&#45;&gt;37 -->\n",
              "<g id=\"edge37\" class=\"edge\">\n",
              "<title>35&#45;&gt;37</title>\n",
              "<path fill=\"none\" stroke=\"black\" d=\"M1292.49,-217.77C1304.36,-206.96 1317.32,-195.16 1329.32,-184.23\"/>\n",
              "<polygon fill=\"black\" stroke=\"black\" points=\"1332.01,-186.52 1337.04,-177.2 1327.29,-181.34 1332.01,-186.52\"/>\n",
              "</g>\n",
              "</g>\n",
              "</svg>\n"
            ],
            "text/plain": [
              "<graphviz.files.Source at 0x7fa6f9966100>"
            ]
          },
          "execution_count": 23,
          "metadata": {},
          "output_type": "execute_result"
        }
      ]
    },
    {
      "cell_type": "code",
      "metadata": {
        "id": "2kkF4M74EUJH"
      },
      "source": [
        "stpredict=singletree.predict(tables_test)"
      ],
      "execution_count": null,
      "outputs": []
    },
    {
      "cell_type": "code",
      "metadata": {
        "id": "n9czrwjKEUJI",
        "outputId": "b72caff2-7b53-4baa-ebc7-c3e1aba8de39"
      },
      "source": [
        "from sklearn.metrics import classification_report, confusion_matrix\n",
        "print(confusion_matrix(l_test, stpredict))\n",
        "print(classification_report(l_test, stpredict))"
      ],
      "execution_count": null,
      "outputs": [
        {
          "name": "stdout",
          "output_type": "stream",
          "text": [
            "[[11561     9]\n",
            " [    9  4037]]\n",
            "              precision    recall  f1-score   support\n",
            "\n",
            "           0       1.00      1.00      1.00     11570\n",
            "           1       1.00      1.00      1.00      4046\n",
            "\n",
            "    accuracy                           1.00     15616\n",
            "   macro avg       1.00      1.00      1.00     15616\n",
            "weighted avg       1.00      1.00      1.00     15616\n",
            "\n"
          ]
        }
      ]
    },
    {
      "cell_type": "code",
      "metadata": {
        "id": "tw4Xld24EUJI",
        "outputId": "5b829791-d6cb-43b4-c788-ad0b3e92b5ed"
      },
      "source": [
        "M=confusion_matrix(l_test, stpredict)\n",
        "M[1][0]"
      ],
      "execution_count": null,
      "outputs": [
        {
          "data": {
            "text/plain": [
              "9"
            ]
          },
          "execution_count": 28,
          "metadata": {},
          "output_type": "execute_result"
        }
      ]
    },
    {
      "cell_type": "markdown",
      "metadata": {
        "id": "klfAHGR0EUJO"
      },
      "source": [
        "## Retraining the sequential and tree models to distinguish close cases"
      ]
    },
    {
      "cell_type": "code",
      "metadata": {
        "id": "o-conTxgEUJO"
      },
      "source": [
        "file5 = './newtable_10.csv'\n",
        "data5 = pd.read_csv(file5, header=None)"
      ],
      "execution_count": null,
      "outputs": []
    },
    {
      "cell_type": "code",
      "metadata": {
        "id": "CmxDH7xGEUJO"
      },
      "source": [
        "table_new = data5.copy()\n",
        "labels_new = table_new.pop(vector_length)\n",
        "m = table_new.max()\n",
        "scale = m.max()\n",
        "\n",
        "table_new = np.array(table_new)\n",
        "table_new=table_new/scale\n",
        "\n",
        "new_train, new_test, l_ntrain, l_ntest = train_test_split(table_new, labels_new, test_size=0.30, random_state=42, shuffle=True)"
      ],
      "execution_count": null,
      "outputs": []
    },
    {
      "cell_type": "code",
      "metadata": {
        "id": "h2AMrdBcEUJO"
      },
      "source": [
        "new_model = tf.keras.Sequential([\n",
        "  layers.Dense(layer_size, activation = 'relu', input_shape = [vector_length]),\n",
        "  layers.Dense(1, activation = 'sigmoid')\n",
        "])\n",
        "\n",
        "new_model.compile(loss = 'binary_crossentropy',\n",
        "                      optimizer = tf.optimizers.Adam(),metrics=['binary_accuracy'])\n",
        "\n",
        "\n",
        "n_history = new_model.fit(new_train, l_ntrain, epochs=1000)\n",
        "\n",
        "test_loss, test_acc = new_model.evaluate(new_test,  l_ntest, verbose=2)\n",
        "\n",
        "print('\\nTest accuracy:', test_acc)"
      ],
      "execution_count": null,
      "outputs": []
    },
    {
      "cell_type": "code",
      "metadata": {
        "id": "_aBAHYxYEUJP"
      },
      "source": [
        "new_model.predict(table_mod)"
      ],
      "execution_count": null,
      "outputs": []
    },
    {
      "cell_type": "code",
      "metadata": {
        "id": "ENrSB3-8EUJP"
      },
      "source": [
        "nhistory_df = pd.DataFrame(n_history.history)\n",
        "# use Pandas native plot method\n",
        "nhistory_df['loss'].plot();"
      ],
      "execution_count": null,
      "outputs": []
    },
    {
      "cell_type": "code",
      "metadata": {
        "id": "GvD47qf1EUJP"
      },
      "source": [
        "newtree= tree.DecisionTreeClassifier()\n",
        "newtree.fit(new_train,l_ntrain)"
      ],
      "execution_count": null,
      "outputs": []
    },
    {
      "cell_type": "code",
      "metadata": {
        "id": "6rbm-3oWEUJQ"
      },
      "source": [
        "ntpredict=newtree.predict(new_test)\n",
        "print(confusion_matrix(l_ntest, ntpredict))\n",
        "print(classification_report(l_ntest, ntpredict))"
      ],
      "execution_count": null,
      "outputs": []
    },
    {
      "cell_type": "markdown",
      "metadata": {
        "id": "1bWEy6rMEUJR"
      },
      "source": [
        "\n",
        "\n",
        "#### More layers"
      ]
    },
    {
      "cell_type": "code",
      "metadata": {
        "scrolled": true,
        "id": "_G16eWMfEUJR"
      },
      "source": [
        "new_model2 = tf.keras.Sequential([\n",
        "  layers.Dense(layer_size, activation = 'relu', input_shape = [vector_length]),\n",
        "  layers.Dense(layer_size, activation = 'relu'),\n",
        "  layers.Dense(layer_size, activation = 'relu'),\n",
        "  layers.Dense(layer_size, activation = 'relu'),\n",
        "  layers.Dense(1, activation = 'sigmoid')\n",
        "])\n",
        "\n",
        "new_model2.compile(loss = 'binary_crossentropy',\n",
        "                      optimizer = tf.optimizers.Adam(),metrics=['binary_accuracy'])\n",
        "\n",
        "\n",
        "n_history2 = new_model2.fit(new_train, l_ntrain, epochs=50)\n",
        "\n",
        "test_loss, test_acc = new_model2.evaluate(new_test,  l_ntest, verbose=2)\n",
        "\n",
        "print('\\nTest accuracy:', test_acc)"
      ],
      "execution_count": null,
      "outputs": []
    },
    {
      "cell_type": "code",
      "metadata": {
        "id": "LS1mr30GEUJS"
      },
      "source": [
        ""
      ],
      "execution_count": null,
      "outputs": []
    }
  ]
}