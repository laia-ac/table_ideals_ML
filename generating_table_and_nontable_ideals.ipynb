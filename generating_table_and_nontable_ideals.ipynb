{
  "nbformat": 4,
  "nbformat_minor": 5,
  "metadata": {
    "kernelspec": {
      "display_name": "Python 3 (ipykernel)",
      "language": "python",
      "name": "python3"
    },
    "language_info": {
      "codemirror_mode": {
        "name": "ipython",
        "version": 3
      },
      "file_extension": ".py",
      "mimetype": "text/x-python",
      "name": "python",
      "nbconvert_exporter": "python",
      "pygments_lexer": "ipython3",
      "version": "3.9.6"
    },
    "colab": {
      "name": "generating_table_and_nontable_ideals.ipynb",
      "provenance": []
    }
  },
  "cells": [
    {
      "cell_type": "markdown",
      "metadata": {
        "id": "12a1b958"
      },
      "source": [
        "# Generation of table ideals"
      ],
      "id": "12a1b958"
    },
    {
      "cell_type": "markdown",
      "metadata": {
        "id": "754f63c5"
      },
      "source": [
        "This file contains the generating functions for table and non-table ideals, and some operation functions on tables."
      ],
      "id": "754f63c5"
    },
    {
      "cell_type": "code",
      "metadata": {
        "id": "816b451b"
      },
      "source": [
        "import random\n",
        "import numpy as np"
      ],
      "id": "816b451b",
      "execution_count": null,
      "outputs": []
    },
    {
      "cell_type": "markdown",
      "metadata": {
        "id": "bf889661"
      },
      "source": [
        "This code generates a single table for table ideals.\n",
        "Conditions are integers $s<n$ and a maximum size for an entry in the table"
      ],
      "id": "bf889661"
    },
    {
      "cell_type": "code",
      "metadata": {
        "id": "d7cead8c"
      },
      "source": [
        "def table(s, n, maxent):\n",
        "    '''\n",
        "    s is the numer of relations, n is the number of columns/variables, \n",
        "    and maxent is the maximum size for a random entry in the table. \n",
        "    '''\n",
        "    T = []\n",
        "    for i in range(s+1):\n",
        "        t = []\n",
        "        for j in range(n):\n",
        "            if j < i and i < s:\n",
        "                t.append(0)\n",
        "            elif i < s:\n",
        "                t.append(random.randint(0, maxent))\n",
        "            elif i >= s:\n",
        "                t.append(0)\n",
        "        T.append(t)\n",
        "    # bounding the ii entries in the table\n",
        "    r = s-1\n",
        "    while r >- 1:\n",
        "        B = T[r+1][r+1]\n",
        "        for j in range(r+1,n):\n",
        "            B = B+T[r][j]\n",
        "        T[r][r] = random.randint(0,B)\n",
        "        r = r-1\n",
        "    \n",
        "    #this counts the column sums\n",
        "    CS = []\n",
        "    for i in range(n):\n",
        "        A = 0\n",
        "        for j in range(s):\n",
        "            A = A+T[j][i]\n",
        "        CS.append(A)\n",
        "    #we define the row of d_i\n",
        "    D = []\n",
        "    for i in range(n):\n",
        "        if i < s:\n",
        "            d = T[i+1][i+1]\n",
        "            for k in range(i):\n",
        "                d = d+T[k][i]\n",
        "            for t in range(i+1,n):\n",
        "                d = d+T[i][t]\n",
        "            D.append(d)\n",
        "        else:\n",
        "            D.append(random.randint(CS[i],maxent*(n+s)))\n",
        "    T.insert(0,D)\n",
        "    return T\n",
        "\n",
        "def deduct(L, K):\n",
        "    N = [L[i]-K[i] for i in range(len(L))]\n",
        "    return N\n",
        "\n",
        "\n",
        "def table_ideal(T):\n",
        "    '''\n",
        "    This function takes in a table and generates a table ideal.\n",
        "    The input is a table and the output is a monomial ideal given by exponent vectors\n",
        "    '''\n",
        "    I = []\n",
        "    s = len(T)-2 #-1 if the last row of zeros is deleted\n",
        "    n = len(T[0])\n",
        "    M = T.copy()\n",
        "    mono = [0 for j in range(n)]\n",
        "    \n",
        "    for i in range(s+1):\n",
        "        if i > 0:\n",
        "            M[0] = deduct(M[0], M[i])\n",
        "            mono[i-1] = M[0][i-1]\n",
        "        \n",
        "        for j in range(i,n):\n",
        "            m = mono.copy()\n",
        "            m[j] = M[0][j]\n",
        "            I.append(m)\n",
        "    return I"
      ],
      "id": "d7cead8c",
      "execution_count": null,
      "outputs": []
    },
    {
      "cell_type": "code",
      "metadata": {
        "id": "2c7501a0"
      },
      "source": [
        "# The following functions are used to unifromise the shape of the exponent vectors\n",
        "\n",
        "def merge(L, is_table=True):\n",
        "    M = []\n",
        "    for x in L:\n",
        "        M = M + list(x)\n",
        "    if is_table:\n",
        "        M.append(1) #label, this is 1 for table ideals and 0 for others\n",
        "    else:\n",
        "        M.append(0)\n",
        "    return M\n",
        "\n",
        "\n",
        "def filler(L, n, N):\n",
        "    '''\n",
        "    We want all the exponent vectors to be the same length\n",
        "    L is the list of monomial exponent vectors\n",
        "    n is number of variables\n",
        "    '''\n",
        "    k = len(L)\n",
        "    v = [0 for i in range(n)]\n",
        "    M = L.copy()\n",
        "    for i in range(N-k):\n",
        "        M.insert(0, v)\n",
        "    return M"
      ],
      "id": "2c7501a0",
      "execution_count": null,
      "outputs": []
    },
    {
      "cell_type": "markdown",
      "metadata": {
        "id": "db36fc44"
      },
      "source": [
        "## Example: Table ideals, 10 variables, monomial degrees up to 7"
      ],
      "id": "db36fc44"
    },
    {
      "cell_type": "code",
      "metadata": {
        "id": "a8bc0841"
      },
      "source": [
        "s = 7\n",
        "n = 10\n",
        "maxent =  1000\n",
        "N = int(1030/10) # from the paper\n",
        "\n",
        "table_ideals = [table_ideal(table(s, n, maxent)) for i in range(10000)]\n",
        "table_ideals_uniform = [merge(filler(I, n, N)) for I in table_ideals]"
      ],
      "id": "a8bc0841",
      "execution_count": null,
      "outputs": []
    },
    {
      "cell_type": "code",
      "metadata": {
        "id": "5a5c28a5"
      },
      "source": [
        "import csv\n",
        "filename = 'table_exponents_10var.csv'\n",
        "with open(filename, 'w') as f:\n",
        "        c = csv.writer(f)\n",
        "        c.writerows(table_ideals_uniform)\n",
        "f.close()"
      ],
      "id": "5a5c28a5",
      "execution_count": null,
      "outputs": []
    },
    {
      "cell_type": "markdown",
      "metadata": {
        "id": "5c4eb070"
      },
      "source": [
        "# The following code is to generate almost-table ideals"
      ],
      "id": "5c4eb070"
    },
    {
      "cell_type": "code",
      "metadata": {
        "id": "973e7bf8"
      },
      "source": [
        "def tablemod(s, T):\n",
        "    '''\n",
        "    This function modifies the table to give almost table ideals\n",
        "    '''\n",
        "    t = random.randint(0,s-1)\n",
        "    w = random.randint(0,t+1)\n",
        "    k = random.choice([-2,-1,1,2])\n",
        "    T[w][t] = T[w][t]+k\n",
        "    return T\n",
        "    \n",
        "    \n",
        "def symnontables(n, max_ent):\n",
        "    '''\n",
        "    This function gives symmetric non-table ideals\n",
        "    '''\n",
        "    mons = []\n",
        "    L = [random.randint(0,max_ent) for i in range(n)]\n",
        "    gen = [0 for i in range(n)]\n",
        "    gen2 = [0 for i in range(n)]\n",
        "    s = 0\n",
        "    for x in L:\n",
        "        s = s + x\n",
        "    gen2[n-1] = s\n",
        "    for x in range(n-1):\n",
        "        v = gen.copy()\n",
        "        w = gen2.copy()\n",
        "        v[x] = L[x+1] + 1\n",
        "        w[x] = 1\n",
        "        mons.append(v)\n",
        "        mons.append(w)\n",
        "    gen2[n-1] = gen2[n-1] + 1\n",
        "    mons.append(gen2)\n",
        "    return mons\n",
        "\n",
        "\n",
        "def sortswap(T, P):\n",
        "    '''\n",
        "    The function generates non-table ideals from a permutation of a table.\n",
        "    '''\n",
        "    n1 = len(T) - 1\n",
        "    n2 = len(T[0])\n",
        "    tab = np.array(T)\n",
        "    subs = tab[0]\n",
        "    subl = []\n",
        "    for i in range(n1-1):\n",
        "        subs = subs - tab[i+1]\n",
        "        subl.append(subs.tolist())\n",
        "    \n",
        "    marker = 0\n",
        "    for x in subl:\n",
        "        if 0 in x:\n",
        "            marker = 1\n",
        "    \n",
        "    if marker == 1:\n",
        "        return []\n",
        "    else:\n",
        "        ideals = []\n",
        "        #possible premutations for T\n",
        "        perm = []\n",
        "        \n",
        "        ha = T[1][0]\n",
        "        for j in T[0]:\n",
        "            if j < ha:\n",
        "                perm.append(T[0].index(j))\n",
        "        L = table_ideal(T)\n",
        "            \n",
        "        mon = [0 for i in range(n2)]\n",
        "        for x in perm:\n",
        "            for y in P:\n",
        "                ide = []\n",
        "                for z in L:\n",
        "                    z1 = z.copy()\n",
        "                    z1[0] = z[x]\n",
        "                    z1[x] = z[0]\n",
        "                    mon2 = mon.copy()\n",
        "                    mon2[0] = z[x]\n",
        "                    for i in range(n2-1):\n",
        "                        mon2[i+1] = z1[y[i]+1]\n",
        "                    ide.append(mon2)\n",
        "                ideals.append(ide)\n",
        "        return ideals\n",
        "    \n",
        "    \n",
        "def nontable2(n, num):\n",
        "    '''\n",
        "    Computes the desired amount of ideals \n",
        "    '''\n",
        "    nontab = []\n",
        "    for i in range(n-1):\n",
        "        count = 0\n",
        "        while count < round(num/n):\n",
        "            K = sortswap(table(i+1, n, 1000), np.permutation(n-1))\n",
        "            if K != []:\n",
        "                for x in K:\n",
        "                    nontab.append(merge(filler(sorted(x, key=itemgetter(slice(0, None))),n)), is_table=False)\n",
        "                    count=count+1\n",
        "    return nontab"
      ],
      "id": "973e7bf8",
      "execution_count": null,
      "outputs": []
    },
    {
      "cell_type": "markdown",
      "metadata": {
        "id": "83c90263"
      },
      "source": [
        "# We produce non-table ideals with the help of Macaulay2"
      ],
      "id": "83c90263"
    },
    {
      "cell_type": "markdown",
      "metadata": {
        "id": "2e5b4d64"
      },
      "source": [
        "We first generate monomials of certain form. Then we use these to generate non-table ideals using Macaulay2"
      ],
      "id": "2e5b4d64"
    },
    {
      "cell_type": "raw",
      "metadata": {
        "id": "fbdbb7c4"
      },
      "source": [
        "# Example\n",
        "# If {x^2, y^2+z^2, z^2, y*z+x*z} is a monomial ideal that we generated, then we obtan the non-table ideal using Macaulay as follows.\n",
        "\n",
        "R = QQ[z,y,x];\n",
        "I = inverseSystem(matrix{{x^2, y^2+z^2, z^2, y*z+x*z}}, DividedPowers => true); \n",
        "J = ideal(leadTerm(I));\n",
        "reduceHilbert(hilbertSeries(J));"
      ],
      "id": "fbdbb7c4"
    },
    {
      "cell_type": "code",
      "metadata": {
        "id": "ee7d8aa5"
      },
      "source": [
        "import random\n",
        "import itertools"
      ],
      "id": "ee7d8aa5",
      "execution_count": null,
      "outputs": []
    },
    {
      "cell_type": "code",
      "metadata": {
        "id": "9461fcab"
      },
      "source": [
        "# Call Macaulay2, which we assume the user has installed locally\n",
        "m2 = Macaulay2(command='/usr/local/bin/M2')"
      ],
      "id": "9461fcab",
      "execution_count": null,
      "outputs": []
    },
    {
      "cell_type": "code",
      "metadata": {
        "id": "7e0948a9"
      },
      "source": [
        "def python_to_macaulay(I, vars):\n",
        "    '''\n",
        "    Converts python code to macaulay2 code\n",
        "    I ideal as a python string\n",
        "    '''\n",
        "    J = m2('R = QQ[' + vars + ']; I = inverseSystem(matrix{{'+ I + '}}, DividedPowers = >true); J=ideal(leadTerm(I)); toString J')\n",
        "    return(J)\n",
        "    \n",
        "def ideal_to_exponent(J, vars):\n",
        "    vars_sep = vars.split(',')\n",
        "    n = len(vars_sep)\n",
        "    P = PolynomialRing(QQ, n, names=vars_sep)\n",
        "    I = str(J)\n",
        "    if I[len(I)-1] == ')':\n",
        "        I = I[6:len(I)-1]\n",
        "    else:\n",
        "        I = I[6:len(I)-2]\n",
        "    I_vec = I.split(\",\")\n",
        "    f = [P(mon) for mon in I_vec]\n",
        "    exp = [mon.exponents()[0] for mon in f]\n",
        "    return(exp)"
      ],
      "id": "7e0948a9",
      "execution_count": null,
      "outputs": []
    },
    {
      "cell_type": "code",
      "metadata": {
        "id": "5e15d96f"
      },
      "source": [
        "dic2 = {1:[[1]]}\n",
        "def parti(n, k):\n",
        "    '''\n",
        "    Partition function. n is the number to be partitioned and k is max length we can have\n",
        "    '''\n",
        "    partitions = [[n]]\n",
        "    for i in range(1, n):\n",
        "        if i in dic2:\n",
        "            w = dic2[i].copy()\n",
        "        if i not in dic2:\n",
        "            w = parti(i, i)\n",
        "            dic2[i] = w.copy()\n",
        "        rem = []\n",
        "        if n-i < i:\n",
        "            for x in w:\n",
        "                if x[0] > n-i:\n",
        "                    rem.append(x)\n",
        "        for y in rem:\n",
        "            w.remove(y)\n",
        "        for x in w:\n",
        "            partitions.append([n-i] + x)\n",
        "    d = []\n",
        "    for x in partitions: \n",
        "        if len(x) <= k:\n",
        "            d.append(x)\n",
        "    return d\n",
        "\n",
        "\n",
        "def varchoice(n, k):\n",
        "    '''\n",
        "    This function generates collection of monomials in degree d\n",
        "    '''\n",
        "    v = [i for i in range(n)]\n",
        "    L = list(itertools.combinations(v, k))\n",
        "    r = random.randint(0, len(L)-1)\n",
        "    return L[r]\n",
        "\n",
        "\n",
        "def totext(t,n):\n",
        "    '''\n",
        "    Input tuple and number of var, denote x1,x2,x3,...\n",
        "    '''\n",
        "    mono = ''\n",
        "    for i in range(n):\n",
        "        if i == 0:\n",
        "            mono = mono + 'x' + str(i+1) + '^'+str(t[i])\n",
        "        else:\n",
        "            mono = mono + '*x' + str(i+1) + '^'+str(t[i])\n",
        "    return mono\n",
        "\n",
        "\n",
        "def forms(n, d):\n",
        "    forms = set()\n",
        "    v = [0 for i in range(n)]\n",
        "    P = parti(d, n)\n",
        "    s = random.randint(2, 10)\n",
        "    I = [random.randint(0, len(P)-1) for i in range(s)]\n",
        "    \n",
        "    for x in I:\n",
        "        k = len(P[x])\n",
        "        random.shuffle(P[x])\n",
        "        V = varchoice(n,k)\n",
        "        mon = v.copy()\n",
        "        for y in V:\n",
        "            mon[y] = P[x][V.index(y)] \n",
        "        mon2 = tuple(mon)\n",
        "        forms.add(mon2)\n",
        "    m2input = ''\n",
        "    for y in forms:\n",
        "        m2input = m2input + totext(y,n) + ', '\n",
        "    m2i = m2input.rstrip()\n",
        "    return m2i.rstrip(',')"
      ],
      "id": "5e15d96f",
      "execution_count": null,
      "outputs": []
    },
    {
      "cell_type": "markdown",
      "metadata": {
        "id": "d05d5da0"
      },
      "source": [
        "## Example: Non-table ideals, 10 variables, monomial degrees up to 7"
      ],
      "id": "d05d5da0"
    },
    {
      "cell_type": "code",
      "metadata": {
        "id": "4ef2519c"
      },
      "source": [
        "n_vars = 10\n",
        "deg_bound = 7\n",
        "polys = [forms(n_vars,random.randint(2,deg_bound-1)) for d in range(20000)]\n",
        "ideals_random = [python_to_macaulay(f, 'x1,x2,x3,x4,x5,x6,x7,x8,x9,x10') for f in polys]"
      ],
      "id": "4ef2519c",
      "execution_count": null,
      "outputs": []
    },
    {
      "cell_type": "code",
      "metadata": {
        "id": "a60f54d6"
      },
      "source": [
        "expo_ideals = [ideal_to_exponent(J, 'x1,x2,x3,x4,x5,x6,x7,x8,x9,x10') for J in ideals_random]\n",
        "expo_length = max([len(expo_ideals[i]) for i in range(len(expo_ideals))])"
      ],
      "id": "a60f54d6",
      "execution_count": null,
      "outputs": []
    },
    {
      "cell_type": "code",
      "metadata": {
        "id": "e8f8e6f6"
      },
      "source": [
        "import csv\n",
        "filename = 'non_table_exponents_10vars_deg7.csv'\n",
        "with open(filename, 'w') as f:\n",
        "        c = csv.writer(f)\n",
        "        c.writerows(expo_ideals)\n",
        "f.close()"
      ],
      "id": "e8f8e6f6",
      "execution_count": null,
      "outputs": []
    }
  ]
}